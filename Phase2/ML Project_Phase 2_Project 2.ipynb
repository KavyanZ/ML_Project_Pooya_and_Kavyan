{
 "cells": [
  {
   "cell_type": "code",
   "execution_count": 1,
   "metadata": {},
   "outputs": [],
   "source": [
    "import pandas as pd\n",
    "import numpy as np\n",
    "# import random\n",
    "import scipy as sp\n",
    "import time\n",
    "import seaborn as sns\n",
    "import matplotlib.pyplot as plt\n",
    "from sklearn.multioutput import MultiOutputRegressor\n",
    "from sklearn.linear_model import Ridge, LinearRegression\n",
    "from sklearn.inspection import permutation_importance\n",
    "from sklearn.preprocessing import PolynomialFeatures\n",
    "from sklearn.model_selection import train_test_split\n",
    "from sklearn.neighbors import KNeighborsRegressor\n",
    "from sklearn.ensemble import RandomForestRegressor\n",
    "from sklearn.datasets import make_regression\n",
    "import seaborn as sns\n",
    "from sklearn.model_selection import learning_curve\n",
    "from sklearn.svm  import SVR\n",
    "from scipy.stats import expon\n",
    "from sklearn.model_selection import RandomizedSearchCV, GridSearchCV\n",
    "from sklearn.metrics import f1_score, accuracy_score, precision_score, recall_score, make_scorer\n",
    "from sklearn.linear_model import SGDRegressor\n",
    "from sklearn.pipeline import make_pipeline, Pipeline\n",
    "from sklearn.preprocessing import StandardScaler\n",
    "from sklearn.model_selection import validation_curve\n",
    "from sklearn.tree import DecisionTreeRegressor\n",
    "\n",
    "\n"
   ]
  },
  {
   "cell_type": "markdown",
   "metadata": {},
   "source": [
    "در این فاز از پروژه تکنیک‌های مختلف ماشین لرنینگ را بر روی داده‌هایمان امتحان می‌کنیم. \n",
    "در دوره‌‌ی \n",
    "\n",
    "NISQ\n",
    "\n",
    "و وقتی هنوز منابع کافی برای روش‌های تصحیح خطای کوانتومی نداریم، یکی از کارهای رایج برای استفاده از برتری سیستم‌های کوانتومی استفاده از روش‌های\n",
    "\n",
    "Quantum Error Mitigation\n",
    "\n",
    "است. یکی از کارهای استفاده شده برای این کار استفاده‌های از روش‌های یادگیری ماشین است، مانند کار مقاله‌ی اخیر \n",
    "[1]\n",
    "که توسط گروهی در \n",
    "\n",
    "IBM\n",
    "\n",
    "انجام شده است.\n",
    "\n",
    "ما در پروژه‌ی این درس با شبیه‌سازی ساده‌تری روی تعداد کمی کیوبیت (۲) به دنبال دیدن اثر روش‌های یادگیری ماشین روی این مسئله هستیم. این می‌تواند مقدمه‌ی ورودمان به \n",
    "\n",
    "QEM\n",
    "\n",
    "باشد."
   ]
  },
  {
   "cell_type": "markdown",
   "metadata": {},
   "source": [
    "متریک مورد علاقه‌ی ما قاعدتا همان \n",
    "acurracy\n",
    "است. در این مسئله به طور خاص تفاوتی بین قدرت پیشبینی و دقت و این موارد برایمان وجود ندارد و همان \n",
    "acurray\n",
    "را به عنوان متریک می‌گیریم."
   ]
  },
  {
   "cell_type": "markdown",
   "metadata": {},
   "source": [
    "اینجا داده را بارگذاری می‌کنیم و فیچرها و لیبل‌ها را مشخص می‌کنیم. بعد هم داده‌های تست و ترین را جدا می‌کنیم. برای چک کردن چند مورد را پرینت می‌کنیم. موارد موجود فعلی در کد برای نویز زیادمان اجرا شده‌اند (به دلیل پیچیده‌تر شدن پیشبینی این را گذاشتیم و هم اینکه به نظر مقادیر دیگر خطا در آزمایش‌های واقعی فعلی خیلی دور از واقعیت هستند)."
   ]
  },
  {
   "cell_type": "code",
   "execution_count": 81,
   "metadata": {},
   "outputs": [
    {
     "name": "stdout",
     "output_type": "stream",
     "text": [
      "       feature1  feature2  feature3  feature4  feature5  feature6  feature7  \\\n",
      "49714  0.104192  0.306077  0.125520  0.319309  0.475925  0.129263  0.379155   \n",
      "92683  0.142179  0.371328  0.106196  0.211776  0.039120  0.466502  0.469810   \n",
      "16978  0.248864  0.268314  0.226366 -0.186031  0.522004  0.158291  0.468148   \n",
      "44579  0.157236  0.289026  0.148188  0.196699  0.326132  0.544480  0.196541   \n",
      "95056  0.041136  0.732399  0.798367  0.292162  0.118449  0.123383 -0.057495   \n",
      "...         ...       ...       ...       ...       ...       ...       ...   \n",
      "18434  0.046588  0.226680  0.290301  0.156450  0.100492  0.399696  0.158632   \n",
      "55355  0.213615  0.318588  0.113410  0.223029  0.419440  0.346454  0.383662   \n",
      "98507  0.375857  0.010928 -0.181411  0.441395  0.305290  0.179800  0.343235   \n",
      "98110  0.222000 -0.027033  0.254695 -0.005673  0.328226  0.326948  0.539184   \n",
      "58473  0.180178  0.108896  0.279193  0.060767  0.409697  0.430642  0.143571   \n",
      "\n",
      "       feature8  feature9  feature10  ...    label7    label8    label9  \\\n",
      "49714  0.356665  0.405672   0.153862  ...  0.197566  0.298024  0.378454   \n",
      "92683  0.605386  0.132111  -0.240815  ...  0.421203  0.519512  0.046073   \n",
      "16978  0.465955  0.576438  -0.002624  ...  0.329191  0.384703  0.508860   \n",
      "44579  0.277399  0.155405   0.519216  ...  0.125849  0.337722  0.263989   \n",
      "95056  0.139793  0.107543   0.479324  ...  0.026458  0.022852  0.097283   \n",
      "...         ...       ...        ...  ...       ...       ...       ...   \n",
      "18434  0.108544  0.420709   0.545404  ...  0.138687  0.283967  0.382724   \n",
      "55355  0.408833  0.242785   0.306994  ...  0.414877  0.330708  0.259037   \n",
      "98507 -0.029086  0.300729   0.381378  ...  0.265921  0.005034  0.317458   \n",
      "98110  0.664349  0.510893   0.277417  ...  0.563597  0.784287  0.446902   \n",
      "58473  0.521872  0.604414   0.221381  ...  0.127881  0.437066  0.360042   \n",
      "\n",
      "        label10   label11   label12   label13   label14   label15   label16  \n",
      "49714  0.128746  0.197997  0.311789  0.377206  0.131690  0.096646  0.249709  \n",
      "92683  0.004447  0.039360  0.027727  0.027640  0.396227  0.254588  0.307495  \n",
      "16978  0.124022  0.349915  0.301549  0.429628  0.145883  0.392506  0.328348  \n",
      "44579  0.444008  0.218892  0.385583  0.119744  0.244555  0.055699  0.212988  \n",
      "95056  0.370769  0.375026  0.106792  0.056086  0.182136  0.209109  0.165105  \n",
      "...         ...       ...       ...       ...       ...       ...       ...  \n",
      "18434  0.424475  0.177599  0.414606  0.221004  0.433543  0.181050  0.327035  \n",
      "55355  0.324497  0.366846  0.207831  0.134059  0.253135  0.344886  0.184668  \n",
      "98507  0.375883  0.044399  0.179462  0.014033  0.421951  0.145214  0.242982  \n",
      "98110  0.155112  0.409917  0.540712  0.495932  0.320879  0.671364  0.708384  \n",
      "58473  0.224648  0.142215  0.442684  0.151408  0.233838  0.129839  0.297330  \n",
      "\n",
      "[20000 rows x 32 columns]\n"
     ]
    }
   ],
   "source": [
    "noise_std = 0.1\n",
    "\n",
    "df = pd.read_csv('Tomography - noise_' + str(noise_std) + ' - No of removed measurements_0.csv')\n",
    "\n",
    "\n",
    "df = df.drop('Unnamed: 0', axis=1)\n",
    "\n",
    "# df = df.sample(n=10000)\n",
    "df = df.sample(n=20000)\n",
    "\n",
    "print(df)\n",
    "\n",
    "# X = df[[\"feature2\", \"feature3\", \"feature4\", \"feature5\", \"feature6\", \"feature7\", \"feature8\", \"feature9\", \"feature10\", \"feature11\", \"feature12\", \"feature13\", \"feature14\", \"feature15\", \"feature16\"]].multiply(1/df['feature1'], axis=\"index\").to_numpy()\n",
    "\n",
    "X = df[[\"feature1\", \"feature2\", \"feature3\", \"feature4\", \"feature5\", \"feature6\", \"feature7\", \"feature8\", \"feature9\", \"feature10\", \"feature11\", \"feature12\", \"feature13\", \"feature14\", \"feature15\", \"feature16\"]].to_numpy()\n",
    "\n",
    "\n",
    "Y = df[[\"label1\", \"label2\", \"label3\", \"label4\", \"label5\", \"label6\", \"label7\", \"label8\", \"label9\", \"label10\", \"label11\", \"label12\", \"label13\", \"label14\", \"label15\", \"label16\"]].to_numpy()\n",
    "\n",
    "# X_train, X_test, Y_train, Y_test = train_test_split(X, Y, test_size=0.15)\n",
    "X_train, X_test, Y_train, Y_test = train_test_split(X, Y, test_size=0.2)\n",
    "\n",
    "\n",
    "free_params = 16\n",
    "\n",
    "# print(X[0])"
   ]
  },
  {
   "cell_type": "code",
   "execution_count": 9,
   "metadata": {},
   "outputs": [
    {
     "name": "stdout",
     "output_type": "stream",
     "text": [
      "[[ 0.36021004  0.18525604  0.46004792 ...  0.37169932  0.01212476\n",
      "   0.2509475 ]\n",
      " [ 0.18316001  0.04948473  0.13402611 ...  0.27028697  0.19831485\n",
      "   0.1991785 ]\n",
      " [ 0.3170193   0.37440653  0.21051195 ...  0.21749798  0.16116635\n",
      "   0.30791417]\n",
      " ...\n",
      " [ 0.19387948  0.02640618 -0.22675961 ...  0.22460312  0.18864726\n",
      "   0.52711172]\n",
      " [ 0.45053579  0.38618335  0.21550925 ...  0.32944406  0.35732761\n",
      "  -0.15370092]\n",
      " [ 0.71310809  0.09830402  0.78411679 ...  0.18551987  0.48345202\n",
      "   0.12587136]]\n",
      "[[0.20520772 0.30156288 0.37937953 ... 0.25344701 0.12934532 0.26725558]\n",
      " [0.24109173 0.20162929 0.19457792 ... 0.17943239 0.1566168  0.2086021 ]\n",
      " [0.32695779 0.26773524 0.21834567 ... 0.31106296 0.21699046 0.38860118]\n",
      " ...\n",
      " [0.16549376 0.10032894 0.02202469 ... 0.13415508 0.12776541 0.49711917]\n",
      " [0.46910969 0.32798787 0.23583157 ... 0.32519784 0.25814322 0.00392205]\n",
      " [0.7402095  0.13538481 0.71421617 ... 0.20959174 0.48301157 0.22068237]]\n"
     ]
    }
   ],
   "source": [
    "print(X)\n",
    "print(Y)"
   ]
  },
  {
   "cell_type": "markdown",
   "metadata": {},
   "source": [
    "در اینجا رگرسیون خطی را امتحان می‌کنیم. چند درجه‌ی مختلف چندجمله‌ای متناظر با چند پیچیدگی مختلف را امتحان می‌کنیم. در اینجا چون تعداد فیچرهای مسُله‌ی مان زیاد است درجات بالاتر چند جمله‌ای را عملا کامپیوتر نمی‌توانست حساب کند. به این دلیل در این بخش یک پنجم کل داده را در نظر گرفتیم و نسبت داده‌های تست را هم ۰.۲ کردیم."
   ]
  },
  {
   "cell_type": "markdown",
   "metadata": {},
   "source": [
    "Linear Regression"
   ]
  },
  {
   "cell_type": "code",
   "execution_count": 6,
   "metadata": {},
   "outputs": [
    {
     "name": "stdout",
     "output_type": "stream",
     "text": [
      "(20000, 16) (16000, 17)\n",
      "(20000, 16) (16000, 153)\n",
      "(20000, 16) (16000, 969)\n",
      "(20000, 16) (16000, 4845)\n",
      "(20000, 16) (16000, 20349)\n"
     ]
    }
   ],
   "source": [
    "# deg = 5\n",
    "# regr = Pipeline([('poly', PolynomialFeatures(degree=deg) ), ('model', LinearRegression() )])\n",
    "# regr.fit( X_train, Y_train )\n",
    "\n",
    "\n",
    "\n",
    "\n",
    "\n",
    "regr = MultiOutputRegressor(SGDRegressor(learning_rate='adaptive'), n_jobs=-1)\n",
    "\n",
    "\n",
    "list_of_degrees = np.arange(1, 6)\n",
    "\n",
    "test_scores_reg = np.zeros(len(list_of_degrees))\n",
    "train_scores_reg = np.zeros(len(list_of_degrees))\n",
    "\n",
    "for degree in range(len(list_of_degrees)):\n",
    "    degree_of_polynomial = list_of_degrees[degree]\n",
    "\n",
    "    poly = PolynomialFeatures(degree_of_polynomial)\n",
    "    X_train_new = poly.fit_transform(X_train)\n",
    "    X_test_new = poly.fit_transform(X_test)\n",
    "\n",
    "    print(X.shape, X_train_new.shape)\n",
    "\n",
    "    regr = MultiOutputRegressor(SGDRegressor(learning_rate='adaptive'), n_jobs=-1).fit(X_train_new, Y_train)\n",
    "\n",
    "\n",
    "    ##### Y_pred_train = regr.predict(X_train_new )\n",
    "    ##### Y_pred_test = regr.predict(X_test_new )\n",
    "    train_scores_reg[degree] = regr.score(X_train_new, Y_train)\n",
    "    test_scores_reg[degree] = regr.score(X_test_new, Y_test)\n",
    "\n",
    "    ##### train_scores_reg[degree] = np.sum((Y_train-Y_pred_train)**2)/len(Y_train)\n",
    "    ##### test_scores_reg[degree] = np.sum((Y_test-Y_pred_test)**2)/len(Y_test)\n"
   ]
  },
  {
   "cell_type": "code",
   "execution_count": 7,
   "metadata": {},
   "outputs": [
    {
     "data": {
      "text/plain": [
       "[]"
      ]
     },
     "execution_count": 7,
     "metadata": {},
     "output_type": "execute_result"
    },
    {
     "data": {
      "image/png": "[encoded data removed]",
      "text/plain": [
       "<Figure size 432x288 with 1 Axes>"
      ]
     },
     "metadata": {
      "needs_background": "light"
     },
     "output_type": "display_data"
    }
   ],
   "source": [
    "\n",
    "\n",
    "plt.plot(list_of_degrees, train_scores_reg, color='m', label='Train Scores') \n",
    "plt.plot(list_of_degrees, test_scores_reg, color='g', label='Test Scores') \n",
    "\n",
    "plt.title('Validation Curve - Linear Regression (SGD)')\n",
    "plt.xlabel('Degree of Polynomial')\n",
    "plt.ylabel('Score')\n",
    "plt.legend()\n",
    "\n",
    "plt.plot()\n"
   ]
  },
  {
   "cell_type": "markdown",
   "metadata": {},
   "source": [
    "همانطور که از نمودار دیده می‌شود، چندجمله‌ای درجه‌ی ۲ می‌تواند بهترین انتخاب باشد. \n",
    "\n",
    "منحنی یادگیری را هم در پایین رسم می‌کنیم. اینجا البته دیگر چون نتیجه چند جمله‌ای درجه ۲ شد و مشکل خاصی نیست از کل داده استفاده می‌کنیم."
   ]
  },
  {
   "cell_type": "code",
   "execution_count": 11,
   "metadata": {},
   "outputs": [
    {
     "name": "stdout",
     "output_type": "stream",
     "text": [
      "(100000, 16) (85000, 153)\n",
      "(100000, 16) (85000, 153)\n"
     ]
    }
   ],
   "source": [
    "degree_of_polynomial = 2\n",
    "\n",
    "poly = PolynomialFeatures(degree_of_polynomial)\n",
    "X_train_new = poly.fit_transform(X_train)\n",
    "X_test_new = poly.fit_transform(X_test)\n",
    "\n",
    "print(X.shape, X_train_new.shape)\n",
    "\n",
    "regr = MultiOutputRegressor(SGDRegressor(learning_rate='adaptive'), n_jobs=-1).fit(X_train_new, Y_train)\n",
    "\n",
    "print(X.shape, X_train_new.shape)\n",
    "\n",
    "train_frac = np.linspace(0.1, 1.0, 10)\n",
    "\n",
    "train_size_abs, train_scores, test_scores = learning_curve(regr, X_train, Y_train, train_sizes=train_frac , cv=5, n_jobs=-1)"
   ]
  },
  {
   "cell_type": "code",
   "execution_count": 12,
   "metadata": {},
   "outputs": [],
   "source": [
    "# print(train_size_abs, test_scores, test_scores.mean(axis=1))\n",
    "\n",
    "test_scores = test_scores.mean(axis=1)\n",
    "train_scores = train_scores.mean(axis=1)"
   ]
  },
  {
   "cell_type": "code",
   "execution_count": 13,
   "metadata": {},
   "outputs": [
    {
     "data": {
      "text/plain": [
       "[]"
      ]
     },
     "execution_count": 13,
     "metadata": {},
     "output_type": "execute_result"
    },
    {
     "data": {
      "image/png": "[encoded data removed]",
      "text/plain": [
       "<Figure size 432x288 with 1 Axes>"
      ]
     },
     "metadata": {
      "needs_background": "light"
     },
     "output_type": "display_data"
    }
   ],
   "source": [
    "samples_used = train_frac * len(X_train)\n",
    "\n",
    "# plt.clf()\n",
    "\n",
    "plt.plot(samples_used, train_scores, color='m', label='Train Scores') \n",
    "plt.plot(samples_used, test_scores, color='g', label='Test Scores') \n",
    "\n",
    "plt.title('Learning Curve - Linear Regression (SGD)')\n",
    "plt.xlabel('Number of Samples Used')\n",
    "plt.ylabel('Score')\n",
    "plt.legend()\n",
    "\n",
    "plt.plot()"
   ]
  },
  {
   "cell_type": "markdown",
   "metadata": {},
   "source": [
    "طبق منحنی یادگیری بالا، داده‌هایمان کافی هستند. حتی مقدار کمتری از داده هم کافی بود. در این بازه‌ی داده شده خیلی تفاوت خاصی مشاهده نمی‌شود.\n",
    "\n",
    "در ادامه کار مشابهی را برای\n",
    "KNN\n",
    "می‌کنیم. \n",
    "\n",
    "برای چند پیچیدگی مختلف نمودار \n",
    "validation\n",
    "را رسم می‌کنیم"
   ]
  },
  {
   "cell_type": "markdown",
   "metadata": {},
   "source": [
    "KNN"
   ]
  },
  {
   "cell_type": "code",
   "execution_count": 14,
   "metadata": {},
   "outputs": [
    {
     "name": "stdout",
     "output_type": "stream",
     "text": [
      "1 6\n",
      "2 6\n",
      "3 6\n",
      "4 6\n",
      "5 6\n",
      "6 6\n"
     ]
    }
   ],
   "source": [
    "list_of_neighbors = np.arange(1, 7)\n",
    "\n",
    "test_scores_knn_normal = np.zeros(len(list_of_neighbors))\n",
    "train_scores_knn_normal = np.zeros(len(list_of_neighbors))\n",
    "\n",
    "# test_scores_knn_distance = np.zeros(len(list_of_neighbors))\n",
    "# train_scores_knn_distance = np.zeros(len(list_of_neighbors))\n",
    "\n",
    "for neighbors in range(len(list_of_neighbors)):\n",
    "\n",
    "    number_of_neighbors = list_of_neighbors[neighbors]\n",
    "\n",
    "\n",
    "    neigh_normal = KNeighborsRegressor(n_neighbors= number_of_neighbors, weights='uniform', n_jobs=-1)\n",
    "    neigh_normal.fit(X_train, Y_train)\n",
    "\n",
    "    # neigh_distance = KNeighborsRegressor(n_neighbors= number_of_neighbors, weights='distance')\n",
    "    # neigh_distance.fit(X_train, Y_train)\n",
    "\n",
    "    print(neighbors+1, len(list_of_neighbors))\n",
    "\n",
    "    \n",
    "\n",
    "    train_scores_knn_normal[neighbors] = neigh_normal.score(X_train, Y_train)\n",
    "    test_scores_knn_normal[neighbors] = neigh_normal.score(X_test, Y_test)\n",
    "\n",
    "    # train_scores_knn_distance[neighbors] = neigh_distance.score(X_train, Y_train)\n",
    "    # test_scores_knn_distance[neighbors] = neigh_distance.score(X_test, Y_test)"
   ]
  },
  {
   "cell_type": "code",
   "execution_count": 15,
   "metadata": {},
   "outputs": [
    {
     "data": {
      "text/plain": [
       "[]"
      ]
     },
     "execution_count": 15,
     "metadata": {},
     "output_type": "execute_result"
    },
    {
     "data": {
      "image/png": "[encoded data removed]",
      "text/plain": [
       "<Figure size 432x288 with 1 Axes>"
      ]
     },
     "metadata": {
      "needs_background": "light"
     },
     "output_type": "display_data"
    }
   ],
   "source": [
    "plt.plot(list_of_neighbors, train_scores_knn_normal, color='m', label='Train Scores - Normal') \n",
    "plt.plot(list_of_neighbors, test_scores_knn_normal, color='g', label='Test Scores - Normal') \n",
    "\n",
    "# plt.plot(list_of_neighbors, train_scores_knn_distance, color='c', label='Train Scores - Distance') \n",
    "# plt.plot(list_of_neighbors, test_scores_knn_distance, color='b', label='Test Scores - Distance') \n",
    "\n",
    "plt.title('Validation Curve - KNN')\n",
    "plt.xlabel('Number of Neighbors')\n",
    "plt.ylabel('Score')\n",
    "plt.legend()\n",
    "\n",
    "plt.plot()"
   ]
  },
  {
   "cell_type": "markdown",
   "metadata": {},
   "source": [
    "طبق نمودار بالا، به نظر تعداد همسایه‌های حدود ۵ بهتر از بقیه کار می‌کند. در ادامه منحنی یادگیری را هم رسم می‌کنیم."
   ]
  },
  {
   "cell_type": "code",
   "execution_count": 21,
   "metadata": {},
   "outputs": [],
   "source": [
    "neigh_distance = KNeighborsRegressor(n_neighbors= 5, weights='distance')\n",
    "\n",
    "\n",
    "\n",
    "# train_size_abs, train_scores, test_scores = learning_curve(neigh_distance, X, Y, train_sizes=sizes_of_train)\n",
    "\n",
    "train_frac = np.linspace(0.1, 1.0, 5)\n",
    "\n",
    "train_size_abs, train_scores, test_scores = learning_curve(neigh_distance, X_train, Y_train, train_sizes=train_frac , cv=5, n_jobs=-1)"
   ]
  },
  {
   "cell_type": "code",
   "execution_count": 22,
   "metadata": {},
   "outputs": [],
   "source": [
    "test_scores = test_scores.mean(axis=1)\n",
    "train_scores = train_scores.mean(axis=1)"
   ]
  },
  {
   "cell_type": "code",
   "execution_count": 23,
   "metadata": {},
   "outputs": [
    {
     "data": {
      "text/plain": [
       "[]"
      ]
     },
     "execution_count": 23,
     "metadata": {},
     "output_type": "execute_result"
    },
    {
     "data": {
      "image/png": "[encoded data removed]",
      "text/plain": [
       "<Figure size 432x288 with 1 Axes>"
      ]
     },
     "metadata": {
      "needs_background": "light"
     },
     "output_type": "display_data"
    }
   ],
   "source": [
    "samples_used = train_frac * len(X_train)\n",
    "\n",
    "plt.plot(samples_used, train_scores, color='m', label='Train Scores') \n",
    "plt.plot(samples_used, test_scores, color='g', label='Test Scores') \n",
    "\n",
    "plt.title('Learning Curve - KNN')\n",
    "plt.xlabel('Data Size')\n",
    "plt.ylabel('Score')\n",
    "plt.legend()\n",
    "\n",
    "plt.plot()"
   ]
  },
  {
   "cell_type": "code",
   "execution_count": 24,
   "metadata": {},
   "outputs": [
    {
     "name": "stdout",
     "output_type": "stream",
     "text": [
      "[1. 1. 1. 1. 1.]\n",
      "[0.55648322 0.57905028 0.58704554 0.59178136 0.59540552]\n"
     ]
    }
   ],
   "source": [
    "print(train_scores)\n",
    "print(test_scores)"
   ]
  },
  {
   "cell_type": "markdown",
   "metadata": {},
   "source": [
    "طبق منحنی مقدار داده‌هایمان کافی است. کار مشابهی را برای بقیه‌ی فرضیه‌ها انجام می‌دهیم.\n",
    "\n",
    "اینجا هم مشابه رگرسیون خطی تعداد داده‌ها را کم کردیم."
   ]
  },
  {
   "cell_type": "markdown",
   "metadata": {},
   "source": [
    "Random Forest"
   ]
  },
  {
   "cell_type": "code",
   "execution_count": 28,
   "metadata": {},
   "outputs": [
    {
     "name": "stdout",
     "output_type": "stream",
     "text": [
      "1 5\n",
      "2 5\n",
      "3 5\n",
      "4 5\n",
      "5 5\n"
     ]
    }
   ],
   "source": [
    "\n",
    "# list_of_depth = np.array([1, 5, 10])\n",
    "\n",
    "# list_of_depth = np.array([5, 10, 20, 22, 25])\n",
    "\n",
    "list_of_depth = np.array([10, 15, 18, 20, 22])\n",
    "\n",
    "test_scores_random_forest = np.zeros(len(list_of_depth))\n",
    "train_scores_random_forest = np.zeros(len(list_of_depth))\n",
    "\n",
    "for depth_count in range(len(list_of_depth)):\n",
    "    depth = list_of_depth[depth_count]\n",
    "\n",
    "    # X_train, Y_train = make_regression(shuffle=False)\n",
    "    # X_train, Y_train = make_regression()\n",
    "    regr_forest = RandomForestRegressor(max_depth= depth)\n",
    "    regr_forest.fit(X_train, Y_train)\n",
    "\n",
    "    print(depth_count+1, len(list_of_depth))\n",
    "\n",
    "    \n",
    "    \n",
    "    train_scores_random_forest[depth_count] = regr_forest.score(X_train, Y_train)\n",
    "    test_scores_random_forest[depth_count] = regr_forest.score(X_test, Y_test)\n",
    "\n"
   ]
  },
  {
   "cell_type": "code",
   "execution_count": 29,
   "metadata": {},
   "outputs": [
    {
     "data": {
      "text/plain": [
       "[]"
      ]
     },
     "execution_count": 29,
     "metadata": {},
     "output_type": "execute_result"
    },
    {
     "data": {
      "image/png": "[encoded data removed]",
      "text/plain": [
       "<Figure size 432x288 with 1 Axes>"
      ]
     },
     "metadata": {
      "needs_background": "light"
     },
     "output_type": "display_data"
    }
   ],
   "source": [
    "\n",
    "\n",
    "plt.plot(list_of_depth, train_scores_random_forest, color='m', label='Train Scores') \n",
    "plt.plot(list_of_depth, test_scores_random_forest, color='g', label='Test Scores') \n",
    "\n",
    "plt.title('Validation Curve - Random Forest')\n",
    "plt.xlabel('Degree')\n",
    "plt.ylabel('Score')\n",
    "plt.legend()\n",
    "\n",
    "plt.plot()"
   ]
  },
  {
   "cell_type": "markdown",
   "metadata": {},
   "source": [
    "طبق نمودار، عمق حدود ۱۸ منطقی به نظر می‌رسد."
   ]
  },
  {
   "cell_type": "code",
   "execution_count": 37,
   "metadata": {},
   "outputs": [],
   "source": [
    "regr_forest = RandomForestRegressor(max_depth= 18)\n",
    "\n",
    "train_frac = np.linspace(0.1, 1.0, 5)\n",
    "\n",
    "train_size_abs, train_scores, test_scores = learning_curve(neigh_distance, X_train, Y_train, train_sizes=train_frac , cv=5, n_jobs=-1)\n"
   ]
  },
  {
   "cell_type": "code",
   "execution_count": 38,
   "metadata": {},
   "outputs": [],
   "source": [
    "test_scores = test_scores.mean(axis=1)\n",
    "train_scores = train_scores.mean(axis=1)"
   ]
  },
  {
   "cell_type": "code",
   "execution_count": 39,
   "metadata": {},
   "outputs": [
    {
     "data": {
      "text/plain": [
       "[]"
      ]
     },
     "execution_count": 39,
     "metadata": {},
     "output_type": "execute_result"
    },
    {
     "data": {
      "image/png": "[encoded data removed]",
      "text/plain": [
       "<Figure size 432x288 with 1 Axes>"
      ]
     },
     "metadata": {
      "needs_background": "light"
     },
     "output_type": "display_data"
    }
   ],
   "source": [
    "samples_used = train_frac * len(X_train)\n",
    "\n",
    "plt.plot(samples_used, train_scores, color='m', label='Train Scores') \n",
    "plt.plot(samples_used, test_scores, color='g', label='Test Scores') \n",
    "\n",
    "plt.title('Learning Curve - Random Forest')\n",
    "plt.xlabel('Data Size')\n",
    "plt.ylabel('Score')\n",
    "plt.legend()\n",
    "\n",
    "plt.plot()"
   ]
  },
  {
   "cell_type": "code",
   "execution_count": 40,
   "metadata": {},
   "outputs": [
    {
     "name": "stdout",
     "output_type": "stream",
     "text": [
      "[1. 1. 1. 1. 1.]\n",
      "[0.50853662 0.54256393 0.55515727 0.56303913 0.56611616]\n"
     ]
    }
   ],
   "source": [
    "print(train_scores)\n",
    "print(test_scores)"
   ]
  },
  {
   "cell_type": "markdown",
   "metadata": {},
   "source": [
    "مجدد طبق نمودار داده‌های کافی داریم.\n",
    "\n",
    "حتی همان ۲۰ هزارتا هم کافی است.\n",
    "\n",
    "اینجا هم مشابه رگرسیون خطی از داده‌های کمتری استفاده می‌کنیم.\n",
    "\n",
    "برای \n",
    "SVM\n",
    "از ده هزار داده استفاده کردیم"
   ]
  },
  {
   "cell_type": "markdown",
   "metadata": {},
   "source": [
    "SVM"
   ]
  },
  {
   "cell_type": "code",
   "execution_count": 73,
   "metadata": {},
   "outputs": [
    {
     "data": {
      "text/html": [
       "<style>#sk-container-id-1 {color: black;background-color: white;}#sk-container-id-1 pre{padding: 0;}#sk-container-id-1 div.sk-toggleable {background-color: white;}#sk-container-id-1 label.sk-toggleable__label {cursor: pointer;display: block;width: 100%;margin-bottom: 0;padding: 0.3em;box-sizing: border-box;text-align: center;}#sk-container-id-1 label.sk-toggleable__label-arrow:before {content: \"▸\";float: left;margin-right: 0.25em;color: #696969;}#sk-container-id-1 label.sk-toggleable__label-arrow:hover:before {color: black;}#sk-container-id-1 div.sk-estimator:hover label.sk-toggleable__label-arrow:before {color: black;}#sk-container-id-1 div.sk-toggleable__content {max-height: 0;max-width: 0;overflow: hidden;text-align: left;background-color: #f0f8ff;}#sk-container-id-1 div.sk-toggleable__content pre {margin: 0.2em;color: black;border-radius: 0.25em;background-color: #f0f8ff;}#sk-container-id-1 input.sk-toggleable__control:checked~div.sk-toggleable__content {max-height: 200px;max-width: 100%;overflow: auto;}#sk-container-id-1 input.sk-toggleable__control:checked~label.sk-toggleable__label-arrow:before {content: \"▾\";}#sk-container-id-1 div.sk-estimator input.sk-toggleable__control:checked~label.sk-toggleable__label {background-color: #d4ebff;}#sk-container-id-1 div.sk-label input.sk-toggleable__control:checked~label.sk-toggleable__label {background-color: #d4ebff;}#sk-container-id-1 input.sk-hidden--visually {border: 0;clip: rect(1px 1px 1px 1px);clip: rect(1px, 1px, 1px, 1px);height: 1px;margin: -1px;overflow: hidden;padding: 0;position: absolute;width: 1px;}#sk-container-id-1 div.sk-estimator {font-family: monospace;background-color: #f0f8ff;border: 1px dotted black;border-radius: 0.25em;box-sizing: border-box;margin-bottom: 0.5em;}#sk-container-id-1 div.sk-estimator:hover {background-color: #d4ebff;}#sk-container-id-1 div.sk-parallel-item::after {content: \"\";width: 100%;border-bottom: 1px solid gray;flex-grow: 1;}#sk-container-id-1 div.sk-label:hover label.sk-toggleable__label {background-color: #d4ebff;}#sk-container-id-1 div.sk-serial::before {content: \"\";position: absolute;border-left: 1px solid gray;box-sizing: border-box;top: 0;bottom: 0;left: 50%;z-index: 0;}#sk-container-id-1 div.sk-serial {display: flex;flex-direction: column;align-items: center;background-color: white;padding-right: 0.2em;padding-left: 0.2em;position: relative;}#sk-container-id-1 div.sk-item {position: relative;z-index: 1;}#sk-container-id-1 div.sk-parallel {display: flex;align-items: stretch;justify-content: center;background-color: white;position: relative;}#sk-container-id-1 div.sk-item::before, #sk-container-id-1 div.sk-parallel-item::before {content: \"\";position: absolute;border-left: 1px solid gray;box-sizing: border-box;top: 0;bottom: 0;left: 50%;z-index: -1;}#sk-container-id-1 div.sk-parallel-item {display: flex;flex-direction: column;z-index: 1;position: relative;background-color: white;}#sk-container-id-1 div.sk-parallel-item:first-child::after {align-self: flex-end;width: 50%;}#sk-container-id-1 div.sk-parallel-item:last-child::after {align-self: flex-start;width: 50%;}#sk-container-id-1 div.sk-parallel-item:only-child::after {width: 0;}#sk-container-id-1 div.sk-dashed-wrapped {border: 1px dashed gray;margin: 0 0.4em 0.5em 0.4em;box-sizing: border-box;padding-bottom: 0.4em;background-color: white;}#sk-container-id-1 div.sk-label label {font-family: monospace;font-weight: bold;display: inline-block;line-height: 1.2em;}#sk-container-id-1 div.sk-label-container {text-align: center;}#sk-container-id-1 div.sk-container {/* jupyter's `normalize.less` sets `[hidden] { display: none; }` but bootstrap.min.css set `[hidden] { display: none !important; }` so we also need the `!important` here to be able to override the default hidden behavior on the sphinx rendered scikit-learn.org. See: https://github.com/scikit-learn/scikit-learn/issues/21755 */display: inline-block !important;position: relative;}#sk-container-id-1 div.sk-text-repr-fallback {display: none;}</style><div id=\"sk-container-id-1\" class=\"sk-top-container\"><div class=\"sk-text-repr-fallback\"><pre>RandomizedSearchCV(cv=5,\n",
       "                   estimator=Pipeline(steps=[(&#x27;clf&#x27;,\n",
       "                                              MultiOutputRegressor(estimator=SVR()))]),\n",
       "                   n_jobs=-1,\n",
       "                   param_distributions={&#x27;clf__estimator__C&#x27;: &lt;scipy.stats._distn_infrastructure.rv_continuous_frozen object at 0x000001E995BF97C0&gt;,\n",
       "                                        &#x27;clf__estimator__gamma&#x27;: &lt;scipy.stats._distn_infrastructure.rv_continuous_frozen object at 0x000001E9988318E0&gt;})</pre><b>In a Jupyter environment, please rerun this cell to show the HTML representation or trust the notebook. <br />On GitHub, the HTML representation is unable to render, please try loading this page with nbviewer.org.</b></div><div class=\"sk-container\" hidden><div class=\"sk-item sk-dashed-wrapped\"><div class=\"sk-label-container\"><div class=\"sk-label sk-toggleable\"><input class=\"sk-toggleable__control sk-hidden--visually\" id=\"sk-estimator-id-1\" type=\"checkbox\" ><label for=\"sk-estimator-id-1\" class=\"sk-toggleable__label sk-toggleable__label-arrow\">RandomizedSearchCV</label><div class=\"sk-toggleable__content\"><pre>RandomizedSearchCV(cv=5,\n",
       "                   estimator=Pipeline(steps=[(&#x27;clf&#x27;,\n",
       "                                              MultiOutputRegressor(estimator=SVR()))]),\n",
       "                   n_jobs=-1,\n",
       "                   param_distributions={&#x27;clf__estimator__C&#x27;: &lt;scipy.stats._distn_infrastructure.rv_continuous_frozen object at 0x000001E995BF97C0&gt;,\n",
       "                                        &#x27;clf__estimator__gamma&#x27;: &lt;scipy.stats._distn_infrastructure.rv_continuous_frozen object at 0x000001E9988318E0&gt;})</pre></div></div></div><div class=\"sk-parallel\"><div class=\"sk-parallel-item\"><div class=\"sk-item\"><div class=\"sk-label-container\"><div class=\"sk-label sk-toggleable\"><input class=\"sk-toggleable__control sk-hidden--visually\" id=\"sk-estimator-id-2\" type=\"checkbox\" ><label for=\"sk-estimator-id-2\" class=\"sk-toggleable__label sk-toggleable__label-arrow\">estimator: Pipeline</label><div class=\"sk-toggleable__content\"><pre>Pipeline(steps=[(&#x27;clf&#x27;, MultiOutputRegressor(estimator=SVR()))])</pre></div></div></div><div class=\"sk-serial\"><div class=\"sk-item\"><div class=\"sk-serial\"><div class=\"sk-item sk-dashed-wrapped\"><div class=\"sk-label-container\"><div class=\"sk-label sk-toggleable\"><input class=\"sk-toggleable__control sk-hidden--visually\" id=\"sk-estimator-id-3\" type=\"checkbox\" ><label for=\"sk-estimator-id-3\" class=\"sk-toggleable__label sk-toggleable__label-arrow\">clf: MultiOutputRegressor</label><div class=\"sk-toggleable__content\"><pre>MultiOutputRegressor(estimator=SVR())</pre></div></div></div><div class=\"sk-parallel\"><div class=\"sk-parallel-item\"><div class=\"sk-item\"><div class=\"sk-label-container\"><div class=\"sk-label sk-toggleable\"><input class=\"sk-toggleable__control sk-hidden--visually\" id=\"sk-estimator-id-4\" type=\"checkbox\" ><label for=\"sk-estimator-id-4\" class=\"sk-toggleable__label sk-toggleable__label-arrow\">estimator: SVR</label><div class=\"sk-toggleable__content\"><pre>SVR()</pre></div></div></div><div class=\"sk-serial\"><div class=\"sk-item\"><div class=\"sk-estimator sk-toggleable\"><input class=\"sk-toggleable__control sk-hidden--visually\" id=\"sk-estimator-id-5\" type=\"checkbox\" ><label for=\"sk-estimator-id-5\" class=\"sk-toggleable__label sk-toggleable__label-arrow\">SVR</label><div class=\"sk-toggleable__content\"><pre>SVR()</pre></div></div></div></div></div></div></div></div></div></div></div></div></div></div></div></div></div>"
      ],
      "text/plain": [
       "RandomizedSearchCV(cv=5,\n",
       "                   estimator=Pipeline(steps=[('clf',\n",
       "                                              MultiOutputRegressor(estimator=SVR()))]),\n",
       "                   n_jobs=-1,\n",
       "                   param_distributions={'clf__estimator__C': <scipy.stats._distn_infrastructure.rv_continuous_frozen object at 0x000001E995BF97C0>,\n",
       "                                        'clf__estimator__gamma': <scipy.stats._distn_infrastructure.rv_continuous_frozen object at 0x000001E9988318E0>})"
      ]
     },
     "execution_count": 73,
     "metadata": {},
     "output_type": "execute_result"
    }
   ],
   "source": [
    "params_dist = {'clf__estimator__C': expon(scale=10), 'clf__estimator__gamma':expon(scale=10)}\n",
    "\n",
    "\n",
    "svr = SVR()\n",
    "\n",
    "pipeline = Pipeline(  [('clf', MultiOutputRegressor(svr))]  )\n",
    "opt_clf = RandomizedSearchCV(pipeline, param_distributions=params_dist, cv=5, n_jobs=-1)\n",
    "opt_clf.fit(X_train,Y_train)\n",
    "\n",
    "\n",
    "# best_C_for_different_labels = np.zeros(Y_train.shape[1])\n",
    "# best_gamma_for_different_labels = np.zeros(Y_train.shape[1])\n",
    "# train_scores_for_different_labels = np.zeros(Y_train.shape[1])\n",
    "# test_scores_for_different_labels = np.zeros(Y_train.shape[1])\n",
    "\n",
    "# for i in range(Y_train.shape[1]):\n",
    "\n",
    "#     opt_clf = RandomizedSearchCV(svr, param_distributions=params_dist, cv=5, n_jobs=-1)\n",
    "#     opt_clf.fit(X_train,Y_train[:, i])\n",
    "\n",
    "#     # best_parameters_for_different_labels.append(opt_clf.best_params_)\n",
    "#     best_parameters = opt_clf.best_params_\n",
    "\n",
    "#     best_C_for_different_labels[i] = best_parameters['C']\n",
    "#     best_gamma_for_different_labels[i] = best_parameters['gamma']\n",
    "\n",
    "#     train_scores_for_different_labels[i] = opt_clf.score(X_train, Y_train[:, i])\n",
    "#     test_scores_for_different_labels[i] = opt_clf.score(X_test, Y_test[:, i])\n",
    "\n",
    "#     print(i+1, Y_train.shape[1])\n",
    "\n"
   ]
  },
  {
   "cell_type": "code",
   "execution_count": 74,
   "metadata": {},
   "outputs": [],
   "source": [
    "best_pipeline = opt_clf.best_estimator_\n",
    "\n",
    "best_parameters_svr = opt_clf.best_params_"
   ]
  },
  {
   "cell_type": "code",
   "execution_count": 75,
   "metadata": {},
   "outputs": [],
   "source": [
    "best_C = best_parameters_svr['clf__estimator__C']\n",
    "best_gamma = best_parameters_svr['clf__estimator__gamma']"
   ]
  },
  {
   "cell_type": "code",
   "execution_count": 76,
   "metadata": {},
   "outputs": [
    {
     "data": {
      "text/plain": [
       "0.7026888336952297"
      ]
     },
     "execution_count": 76,
     "metadata": {},
     "output_type": "execute_result"
    }
   ],
   "source": [
    "opt_clf.score(X_train, Y_train)"
   ]
  },
  {
   "cell_type": "code",
   "execution_count": 77,
   "metadata": {},
   "outputs": [
    {
     "data": {
      "text/plain": [
       "0.7061623502817573"
      ]
     },
     "execution_count": 77,
     "metadata": {},
     "output_type": "execute_result"
    }
   ],
   "source": [
    "opt_clf.score(X_test, Y_test)"
   ]
  },
  {
   "cell_type": "markdown",
   "metadata": {},
   "source": [
    "Learning Curve of SVM"
   ]
  },
  {
   "cell_type": "code",
   "execution_count": 78,
   "metadata": {},
   "outputs": [],
   "source": [
    "\n",
    "train_frac = np.linspace(0.1, 1.0, 5)\n",
    "\n",
    "train_size_abs, train_scores, test_scores = learning_curve(best_pipeline, X_train, Y_train, train_sizes=train_frac , cv=5, n_jobs=-1)\n"
   ]
  },
  {
   "cell_type": "code",
   "execution_count": 79,
   "metadata": {},
   "outputs": [],
   "source": [
    "test_scores = test_scores.mean(axis=1)\n",
    "train_scores = train_scores.mean(axis=1)"
   ]
  },
  {
   "cell_type": "code",
   "execution_count": 80,
   "metadata": {},
   "outputs": [
    {
     "data": {
      "text/plain": [
       "[]"
      ]
     },
     "execution_count": 80,
     "metadata": {},
     "output_type": "execute_result"
    },
    {
     "data": {
      "image/png": "[encoded data removed]",
      "text/plain": [
       "<Figure size 432x288 with 1 Axes>"
      ]
     },
     "metadata": {
      "needs_background": "light"
     },
     "output_type": "display_data"
    }
   ],
   "source": [
    "samples_used = train_frac * len(X_train)\n",
    "\n",
    "plt.plot(samples_used, train_scores, color='m', label='Train Scores') \n",
    "plt.plot(samples_used, test_scores, color='g', label='Test Scores') \n",
    "\n",
    "plt.title('Learning Curve - SVR')\n",
    "plt.xlabel('Data Size')\n",
    "plt.ylabel('Score')\n",
    "plt.legend()\n",
    "\n",
    "plt.plot()"
   ]
  },
  {
   "cell_type": "markdown",
   "metadata": {},
   "source": [
    "برای\n",
    "SVM\n",
    "مقدار داده‌هایمان کافی نیست. با ۲۰ هزارتا مجدد امتحان می‌کنیم. \n",
    "\n"
   ]
  },
  {
   "cell_type": "code",
   "execution_count": 82,
   "metadata": {},
   "outputs": [
    {
     "data": {
      "text/html": [
       "<style>#sk-container-id-2 {color: black;background-color: white;}#sk-container-id-2 pre{padding: 0;}#sk-container-id-2 div.sk-toggleable {background-color: white;}#sk-container-id-2 label.sk-toggleable__label {cursor: pointer;display: block;width: 100%;margin-bottom: 0;padding: 0.3em;box-sizing: border-box;text-align: center;}#sk-container-id-2 label.sk-toggleable__label-arrow:before {content: \"▸\";float: left;margin-right: 0.25em;color: #696969;}#sk-container-id-2 label.sk-toggleable__label-arrow:hover:before {color: black;}#sk-container-id-2 div.sk-estimator:hover label.sk-toggleable__label-arrow:before {color: black;}#sk-container-id-2 div.sk-toggleable__content {max-height: 0;max-width: 0;overflow: hidden;text-align: left;background-color: #f0f8ff;}#sk-container-id-2 div.sk-toggleable__content pre {margin: 0.2em;color: black;border-radius: 0.25em;background-color: #f0f8ff;}#sk-container-id-2 input.sk-toggleable__control:checked~div.sk-toggleable__content {max-height: 200px;max-width: 100%;overflow: auto;}#sk-container-id-2 input.sk-toggleable__control:checked~label.sk-toggleable__label-arrow:before {content: \"▾\";}#sk-container-id-2 div.sk-estimator input.sk-toggleable__control:checked~label.sk-toggleable__label {background-color: #d4ebff;}#sk-container-id-2 div.sk-label input.sk-toggleable__control:checked~label.sk-toggleable__label {background-color: #d4ebff;}#sk-container-id-2 input.sk-hidden--visually {border: 0;clip: rect(1px 1px 1px 1px);clip: rect(1px, 1px, 1px, 1px);height: 1px;margin: -1px;overflow: hidden;padding: 0;position: absolute;width: 1px;}#sk-container-id-2 div.sk-estimator {font-family: monospace;background-color: #f0f8ff;border: 1px dotted black;border-radius: 0.25em;box-sizing: border-box;margin-bottom: 0.5em;}#sk-container-id-2 div.sk-estimator:hover {background-color: #d4ebff;}#sk-container-id-2 div.sk-parallel-item::after {content: \"\";width: 100%;border-bottom: 1px solid gray;flex-grow: 1;}#sk-container-id-2 div.sk-label:hover label.sk-toggleable__label {background-color: #d4ebff;}#sk-container-id-2 div.sk-serial::before {content: \"\";position: absolute;border-left: 1px solid gray;box-sizing: border-box;top: 0;bottom: 0;left: 50%;z-index: 0;}#sk-container-id-2 div.sk-serial {display: flex;flex-direction: column;align-items: center;background-color: white;padding-right: 0.2em;padding-left: 0.2em;position: relative;}#sk-container-id-2 div.sk-item {position: relative;z-index: 1;}#sk-container-id-2 div.sk-parallel {display: flex;align-items: stretch;justify-content: center;background-color: white;position: relative;}#sk-container-id-2 div.sk-item::before, #sk-container-id-2 div.sk-parallel-item::before {content: \"\";position: absolute;border-left: 1px solid gray;box-sizing: border-box;top: 0;bottom: 0;left: 50%;z-index: -1;}#sk-container-id-2 div.sk-parallel-item {display: flex;flex-direction: column;z-index: 1;position: relative;background-color: white;}#sk-container-id-2 div.sk-parallel-item:first-child::after {align-self: flex-end;width: 50%;}#sk-container-id-2 div.sk-parallel-item:last-child::after {align-self: flex-start;width: 50%;}#sk-container-id-2 div.sk-parallel-item:only-child::after {width: 0;}#sk-container-id-2 div.sk-dashed-wrapped {border: 1px dashed gray;margin: 0 0.4em 0.5em 0.4em;box-sizing: border-box;padding-bottom: 0.4em;background-color: white;}#sk-container-id-2 div.sk-label label {font-family: monospace;font-weight: bold;display: inline-block;line-height: 1.2em;}#sk-container-id-2 div.sk-label-container {text-align: center;}#sk-container-id-2 div.sk-container {/* jupyter's `normalize.less` sets `[hidden] { display: none; }` but bootstrap.min.css set `[hidden] { display: none !important; }` so we also need the `!important` here to be able to override the default hidden behavior on the sphinx rendered scikit-learn.org. See: https://github.com/scikit-learn/scikit-learn/issues/21755 */display: inline-block !important;position: relative;}#sk-container-id-2 div.sk-text-repr-fallback {display: none;}</style><div id=\"sk-container-id-2\" class=\"sk-top-container\"><div class=\"sk-text-repr-fallback\"><pre>RandomizedSearchCV(cv=5,\n",
       "                   estimator=Pipeline(steps=[(&#x27;clf&#x27;,\n",
       "                                              MultiOutputRegressor(estimator=SVR()))]),\n",
       "                   n_jobs=-1,\n",
       "                   param_distributions={&#x27;clf__estimator__C&#x27;: &lt;scipy.stats._distn_infrastructure.rv_continuous_frozen object at 0x000001E995B9D2B0&gt;,\n",
       "                                        &#x27;clf__estimator__gamma&#x27;: &lt;scipy.stats._distn_infrastructure.rv_continuous_frozen object at 0x000001E995646FA0&gt;})</pre><b>In a Jupyter environment, please rerun this cell to show the HTML representation or trust the notebook. <br />On GitHub, the HTML representation is unable to render, please try loading this page with nbviewer.org.</b></div><div class=\"sk-container\" hidden><div class=\"sk-item sk-dashed-wrapped\"><div class=\"sk-label-container\"><div class=\"sk-label sk-toggleable\"><input class=\"sk-toggleable__control sk-hidden--visually\" id=\"sk-estimator-id-6\" type=\"checkbox\" ><label for=\"sk-estimator-id-6\" class=\"sk-toggleable__label sk-toggleable__label-arrow\">RandomizedSearchCV</label><div class=\"sk-toggleable__content\"><pre>RandomizedSearchCV(cv=5,\n",
       "                   estimator=Pipeline(steps=[(&#x27;clf&#x27;,\n",
       "                                              MultiOutputRegressor(estimator=SVR()))]),\n",
       "                   n_jobs=-1,\n",
       "                   param_distributions={&#x27;clf__estimator__C&#x27;: &lt;scipy.stats._distn_infrastructure.rv_continuous_frozen object at 0x000001E995B9D2B0&gt;,\n",
       "                                        &#x27;clf__estimator__gamma&#x27;: &lt;scipy.stats._distn_infrastructure.rv_continuous_frozen object at 0x000001E995646FA0&gt;})</pre></div></div></div><div class=\"sk-parallel\"><div class=\"sk-parallel-item\"><div class=\"sk-item\"><div class=\"sk-label-container\"><div class=\"sk-label sk-toggleable\"><input class=\"sk-toggleable__control sk-hidden--visually\" id=\"sk-estimator-id-7\" type=\"checkbox\" ><label for=\"sk-estimator-id-7\" class=\"sk-toggleable__label sk-toggleable__label-arrow\">estimator: Pipeline</label><div class=\"sk-toggleable__content\"><pre>Pipeline(steps=[(&#x27;clf&#x27;, MultiOutputRegressor(estimator=SVR()))])</pre></div></div></div><div class=\"sk-serial\"><div class=\"sk-item\"><div class=\"sk-serial\"><div class=\"sk-item sk-dashed-wrapped\"><div class=\"sk-label-container\"><div class=\"sk-label sk-toggleable\"><input class=\"sk-toggleable__control sk-hidden--visually\" id=\"sk-estimator-id-8\" type=\"checkbox\" ><label for=\"sk-estimator-id-8\" class=\"sk-toggleable__label sk-toggleable__label-arrow\">clf: MultiOutputRegressor</label><div class=\"sk-toggleable__content\"><pre>MultiOutputRegressor(estimator=SVR())</pre></div></div></div><div class=\"sk-parallel\"><div class=\"sk-parallel-item\"><div class=\"sk-item\"><div class=\"sk-label-container\"><div class=\"sk-label sk-toggleable\"><input class=\"sk-toggleable__control sk-hidden--visually\" id=\"sk-estimator-id-9\" type=\"checkbox\" ><label for=\"sk-estimator-id-9\" class=\"sk-toggleable__label sk-toggleable__label-arrow\">estimator: SVR</label><div class=\"sk-toggleable__content\"><pre>SVR()</pre></div></div></div><div class=\"sk-serial\"><div class=\"sk-item\"><div class=\"sk-estimator sk-toggleable\"><input class=\"sk-toggleable__control sk-hidden--visually\" id=\"sk-estimator-id-10\" type=\"checkbox\" ><label for=\"sk-estimator-id-10\" class=\"sk-toggleable__label sk-toggleable__label-arrow\">SVR</label><div class=\"sk-toggleable__content\"><pre>SVR()</pre></div></div></div></div></div></div></div></div></div></div></div></div></div></div></div></div></div>"
      ],
      "text/plain": [
       "RandomizedSearchCV(cv=5,\n",
       "                   estimator=Pipeline(steps=[('clf',\n",
       "                                              MultiOutputRegressor(estimator=SVR()))]),\n",
       "                   n_jobs=-1,\n",
       "                   param_distributions={'clf__estimator__C': <scipy.stats._distn_infrastructure.rv_continuous_frozen object at 0x000001E995B9D2B0>,\n",
       "                                        'clf__estimator__gamma': <scipy.stats._distn_infrastructure.rv_continuous_frozen object at 0x000001E995646FA0>})"
      ]
     },
     "execution_count": 82,
     "metadata": {},
     "output_type": "execute_result"
    }
   ],
   "source": [
    "params_dist = {'clf__estimator__C': expon(scale=10), 'clf__estimator__gamma':expon(scale=10)}\n",
    "\n",
    "\n",
    "svr = SVR()\n",
    "\n",
    "pipeline = Pipeline(  [('clf', MultiOutputRegressor(svr))]  )\n",
    "opt_clf = RandomizedSearchCV(pipeline, param_distributions=params_dist, cv=5, n_jobs=-1)\n",
    "opt_clf.fit(X_train,Y_train)"
   ]
  },
  {
   "cell_type": "code",
   "execution_count": 84,
   "metadata": {},
   "outputs": [],
   "source": [
    "best_pipeline = opt_clf.best_estimator_\n",
    "\n",
    "best_parameters_svr = opt_clf.best_params_"
   ]
  },
  {
   "cell_type": "code",
   "execution_count": 85,
   "metadata": {},
   "outputs": [],
   "source": [
    "best_C = best_parameters_svr['clf__estimator__C']\n",
    "best_gamma = best_parameters_svr['clf__estimator__gamma']"
   ]
  },
  {
   "cell_type": "code",
   "execution_count": 86,
   "metadata": {},
   "outputs": [
    {
     "data": {
      "text/plain": [
       "0.720500718941699"
      ]
     },
     "execution_count": 86,
     "metadata": {},
     "output_type": "execute_result"
    }
   ],
   "source": [
    "opt_clf.score(X_train, Y_train)"
   ]
  },
  {
   "cell_type": "code",
   "execution_count": 87,
   "metadata": {},
   "outputs": [
    {
     "data": {
      "text/plain": [
       "0.6753428621346117"
      ]
     },
     "execution_count": 87,
     "metadata": {},
     "output_type": "execute_result"
    }
   ],
   "source": [
    "opt_clf.score(X_test, Y_test)"
   ]
  },
  {
   "cell_type": "code",
   "execution_count": 88,
   "metadata": {},
   "outputs": [],
   "source": [
    "train_frac = np.linspace(0.5, 1.0, 3)\n",
    "\n",
    "train_size_abs, train_scores, test_scores = learning_curve(best_pipeline, X_train, Y_train, train_sizes=train_frac , cv=5, n_jobs=-1)"
   ]
  },
  {
   "cell_type": "code",
   "execution_count": 89,
   "metadata": {},
   "outputs": [],
   "source": [
    "test_scores = test_scores.mean(axis=1)\n",
    "train_scores = train_scores.mean(axis=1)"
   ]
  },
  {
   "cell_type": "code",
   "execution_count": 90,
   "metadata": {},
   "outputs": [
    {
     "data": {
      "text/plain": [
       "[]"
      ]
     },
     "execution_count": 90,
     "metadata": {},
     "output_type": "execute_result"
    },
    {
     "data": {
      "image/png": "[encoded data removed]",
      "text/plain": [
       "<Figure size 432x288 with 1 Axes>"
      ]
     },
     "metadata": {
      "needs_background": "light"
     },
     "output_type": "display_data"
    }
   ],
   "source": [
    "samples_used = train_frac * len(X_train)\n",
    "\n",
    "plt.plot(samples_used, train_scores, color='m', label='Train Scores') \n",
    "plt.plot(samples_used, test_scores, color='g', label='Test Scores') \n",
    "\n",
    "plt.title('Learning Curve - SVR')\n",
    "plt.xlabel('Data Size')\n",
    "plt.ylabel('Score')\n",
    "plt.legend()\n",
    "\n",
    "plt.plot()"
   ]
  },
  {
   "cell_type": "code",
   "execution_count": 91,
   "metadata": {},
   "outputs": [
    {
     "name": "stdout",
     "output_type": "stream",
     "text": [
      "[0.72156145 0.71995028 0.72090453]\n",
      "[0.64738896 0.65801461 0.66548155]\n"
     ]
    }
   ],
   "source": [
    "print(train_scores)\n",
    "print(test_scores)"
   ]
  },
  {
   "cell_type": "markdown",
   "metadata": {},
   "source": [
    "با ترکیب دو نمودار اخیر به نظر همچنان داده‌ی بیشتر نتیجه‌ی بهتری خواهد داد. اما به دلیل اینکه زمان اجرای آن خیلی طولانی می‌شود عملا نمی‌توان چنین حالتی را امتحان کرد."
   ]
  },
  {
   "cell_type": "markdown",
   "metadata": {},
   "source": [
    "Decision Tree"
   ]
  },
  {
   "cell_type": "code",
   "execution_count": 62,
   "metadata": {},
   "outputs": [
    {
     "name": "stdout",
     "output_type": "stream",
     "text": [
      "1 9\n",
      "2 9\n",
      "3 9\n",
      "4 9\n",
      "5 9\n",
      "6 9\n",
      "7 9\n",
      "8 9\n",
      "9 9\n"
     ]
    }
   ],
   "source": [
    "list_of_depth = np.array([10, 15, 16, 17, 18, 20, 22, 25, 30])\n",
    "\n",
    "test_scores_tree = np.zeros(len(list_of_depth))\n",
    "train_scores_tree = np.zeros(len(list_of_depth))\n",
    "\n",
    "for depth_count in range(len(list_of_depth)):\n",
    "    depth = list_of_depth[depth_count]\n",
    "\n",
    "    # X_train, Y_train = make_regression(shuffle=False)\n",
    "    # X_train, Y_train = make_regression()\n",
    "    regr_tree = DecisionTreeRegressor(max_depth= depth)\n",
    "    regr_tree.fit(X_train, Y_train)\n",
    "\n",
    "    print(depth_count+1, len(list_of_depth))\n",
    "\n",
    "    \n",
    "    \n",
    "    train_scores_tree[depth_count] = regr_tree.score(X_train, Y_train)\n",
    "    test_scores_tree[depth_count] = regr_tree.score(X_test, Y_test)"
   ]
  },
  {
   "cell_type": "code",
   "execution_count": 65,
   "metadata": {},
   "outputs": [
    {
     "data": {
      "text/plain": [
       "[]"
      ]
     },
     "execution_count": 65,
     "metadata": {},
     "output_type": "execute_result"
    },
    {
     "data": {
      "image/png": "[encoded data removed]",
      "text/plain": [
       "<Figure size 432x288 with 1 Axes>"
      ]
     },
     "metadata": {
      "needs_background": "light"
     },
     "output_type": "display_data"
    }
   ],
   "source": [
    "plt.plot(list_of_depth, train_scores_tree, color='m', label='Train Scores') \n",
    "plt.plot(list_of_depth, test_scores_tree, color='g', label='Test Scores') \n",
    "\n",
    "plt.title('Validation Curve - Decision Tree')\n",
    "plt.xlabel('ٔdepth')\n",
    "plt.ylabel('Score')\n",
    "plt.legend()\n",
    "\n",
    "plt.plot()"
   ]
  },
  {
   "cell_type": "code",
   "execution_count": 66,
   "metadata": {},
   "outputs": [
    {
     "name": "stdout",
     "output_type": "stream",
     "text": [
      "1 7\n",
      "2 7\n",
      "3 7\n",
      "4 7\n",
      "5 7\n",
      "6 7\n",
      "7 7\n"
     ]
    }
   ],
   "source": [
    "list_of_depth = np.array([1, 5, 7, 9, 10, 12, 15])\n",
    "\n",
    "test_scores_tree = np.zeros(len(list_of_depth))\n",
    "train_scores_tree = np.zeros(len(list_of_depth))\n",
    "\n",
    "for depth_count in range(len(list_of_depth)):\n",
    "    depth = list_of_depth[depth_count]\n",
    "\n",
    "    # X_train, Y_train = make_regression(shuffle=False)\n",
    "    # X_train, Y_train = make_regression()\n",
    "    regr_tree = DecisionTreeRegressor(max_depth= depth)\n",
    "    regr_tree.fit(X_train, Y_train)\n",
    "\n",
    "    print(depth_count+1, len(list_of_depth))\n",
    "\n",
    "    \n",
    "    \n",
    "    train_scores_tree[depth_count] = regr_tree.score(X_train, Y_train)\n",
    "    test_scores_tree[depth_count] = regr_tree.score(X_test, Y_test)"
   ]
  },
  {
   "cell_type": "code",
   "execution_count": 68,
   "metadata": {},
   "outputs": [
    {
     "data": {
      "text/plain": [
       "[]"
      ]
     },
     "execution_count": 68,
     "metadata": {},
     "output_type": "execute_result"
    },
    {
     "data": {
      "image/png": "[encoded data removed]",
      "text/plain": [
       "<Figure size 432x288 with 1 Axes>"
      ]
     },
     "metadata": {
      "needs_background": "light"
     },
     "output_type": "display_data"
    }
   ],
   "source": [
    "plt.plot(list_of_depth, train_scores_tree, color='m', label='Train Scores') \n",
    "plt.plot(list_of_depth, test_scores_tree, color='g', label='Test Scores') \n",
    "\n",
    "plt.title('Validation Curve - Decision Tree')\n",
    "plt.xlabel('Depth')\n",
    "plt.ylabel('Score')\n",
    "plt.legend()\n",
    "\n",
    "plt.plot()"
   ]
  },
  {
   "cell_type": "markdown",
   "metadata": {},
   "source": [
    "حدود عمق ۹ احتمالا بهترین گزینه هست"
   ]
  },
  {
   "cell_type": "code",
   "execution_count": 69,
   "metadata": {},
   "outputs": [],
   "source": [
    "regr_tree = DecisionTreeRegressor(max_depth= 9)\n",
    "\n",
    "train_frac = np.linspace(0.1, 1.0, 5)\n",
    "\n",
    "train_size_abs, train_scores, test_scores = learning_curve(regr_tree, X_train, Y_train, train_sizes=train_frac , cv=5, n_jobs=-1)"
   ]
  },
  {
   "cell_type": "code",
   "execution_count": 70,
   "metadata": {},
   "outputs": [],
   "source": [
    "test_scores = test_scores.mean(axis=1)\n",
    "train_scores = train_scores.mean(axis=1)"
   ]
  },
  {
   "cell_type": "code",
   "execution_count": 71,
   "metadata": {},
   "outputs": [
    {
     "data": {
      "text/plain": [
       "[]"
      ]
     },
     "execution_count": 71,
     "metadata": {},
     "output_type": "execute_result"
    },
    {
     "data": {
      "image/png": "[encoded data removed]",
      "text/plain": [
       "<Figure size 432x288 with 1 Axes>"
      ]
     },
     "metadata": {
      "needs_background": "light"
     },
     "output_type": "display_data"
    }
   ],
   "source": [
    "samples_used = train_frac * len(X_train)\n",
    "\n",
    "plt.plot(samples_used, train_scores, color='m', label='Train Scores') \n",
    "plt.plot(samples_used, test_scores, color='g', label='Test Scores') \n",
    "\n",
    "plt.title('Learning Curve - Decision Tree')\n",
    "plt.xlabel('Data Size')\n",
    "plt.ylabel('Score')\n",
    "plt.legend()\n",
    "\n",
    "plt.plot()"
   ]
  },
  {
   "cell_type": "markdown",
   "metadata": {},
   "source": [
    "داده‌ها کافی است\n",
    "\n",
    "برای مقایسه، متریک همه \n",
    "\n",
    "acurracy\n",
    "\n",
    "است.\n",
    "\n",
    "برای بقیه‌ی مقایسه‌ها:\n"
   ]
  },
  {
   "cell_type": "code",
   "execution_count": 92,
   "metadata": {},
   "outputs": [
    {
     "name": "stdout",
     "output_type": "stream",
     "text": [
      "LinearRegression SGD: test_scores: 0.695 - train scores: 0.7- optimization time: 98s\n",
      "KNN: test_scores: 0.55 - train scores: 0.77- optimization time: 45s\n",
      "Random Forest: test_scores: 0.58 - train scores: 0.95- optimization time: 150s\n",
      "SVR: test_scores: 0.68 - train scores: 0.72- optimization time: 510s\n",
      "Decision Tree: test_scores: 0.3 - train scores: 0.4- optimization time: 3s\n"
     ]
    }
   ],
   "source": [
    "print('LinearRegression SGD: ' + 'test_scores: ' + str(0.695) + ' - train scores: ' + str(0.7) + '- optimization time: ' + str(98) +'s' )\n",
    "print('KNN: ' + 'test_scores: ' + str(0.55) + ' - train scores: ' + str(0.77) + '- optimization time: ' + str(45) +'s' )\n",
    "print('Random Forest: ' + 'test_scores: ' + str(0.58) + ' - train scores: ' + str(0.95) + '- optimization time: ' + str(150) +'s')\n",
    "print('SVR: ' + 'test_scores: ' + str(0.68) + ' - train scores: ' + str(0.72) + '- optimization time: ' + str(510) + 's' )\n",
    "print('Decision Tree: ' + 'test_scores: ' + str(0.3) + ' - train scores: ' + str(0.4) + '- optimization time: ' + str(3) +'s' )"
   ]
  },
  {
   "cell_type": "markdown",
   "metadata": {},
   "source": [
    "سرجمع رگرسیون خطی و رندوم فارست و \n",
    "\n",
    "SVR\n",
    "\n",
    "بهتر از بقیه عمل کردند. \n",
    "\n",
    "SVR\n",
    "\n",
    "زمان اجرا شدن آن خیلی طولانی بود. \n",
    "\n",
    "درخت تصمیم گیری که نتیجه‌ی آن خیلی بد بود در مقایسه با بقیه و شاید قابل پیشبینی هم بود. \n",
    "\n",
    "KNN\n",
    "\n",
    "هم به نسبت بقیه خیلی شاید بد نبود.\n",
    "\n",
    "رندوم فارست واریانس خیلی زیادی دارد اما بایاس آن کم است.\n",
    "\n",
    "رگرسیون خطی و \n",
    "\n",
    "SVR\n",
    "\n",
    "هم واریانس زیادی ندارند."
   ]
  },
  {
   "cell_type": "code",
   "execution_count": null,
   "metadata": {},
   "outputs": [],
   "source": []
  }
 ],
 "metadata": {
  "kernelspec": {
   "display_name": "Python 3",
   "language": "python",
   "name": "python3"
  },
  "language_info": {
   "codemirror_mode": {
    "name": "ipython",
    "version": 3
   },
   "file_extension": ".py",
   "mimetype": "text/x-python",
   "name": "python",
   "nbconvert_exporter": "python",
   "pygments_lexer": "ipython3",
   "version": "3.9.13"
  }
 },
 "nbformat": 4,
 "nbformat_minor": 2
}
