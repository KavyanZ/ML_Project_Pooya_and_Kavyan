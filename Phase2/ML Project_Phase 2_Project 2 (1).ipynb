{
 "cells": [
  {
   "cell_type": "code",
   "execution_count": 2,
   "metadata": {},
   "outputs": [],
   "source": [
    "import pandas as pd\n",
    "import numpy as np\n",
    "# import random\n",
    "import scipy as sp\n",
    "import time\n",
    "import seaborn as sns\n",
    "import matplotlib.pyplot as plt\n",
    "from sklearn.multioutput import MultiOutputRegressor\n",
    "from sklearn.linear_model import Ridge, LinearRegression\n",
    "from sklearn.inspection import permutation_importance\n",
    "from sklearn.preprocessing import PolynomialFeatures\n",
    "from sklearn.model_selection import train_test_split\n",
    "from sklearn.neighbors import KNeighborsRegressor\n",
    "from sklearn.ensemble import RandomForestRegressor\n",
    "from sklearn.datasets import make_regression\n",
    "import seaborn as sns\n",
    "from sklearn.model_selection import learning_curve\n",
    "from sklearn.svm  import SVR\n",
    "from scipy.stats import expon\n",
    "from sklearn.model_selection import RandomizedSearchCV, GridSearchCV\n",
    "from sklearn.metrics import f1_score, accuracy_score, precision_score, recall_score, make_scorer\n",
    "from sklearn.linear_model import SGDRegressor\n",
    "from sklearn.pipeline import make_pipeline, Pipeline\n",
    "from sklearn.preprocessing import StandardScaler\n",
    "from sklearn.model_selection import validation_curve\n",
    "from sklearn.tree import DecisionTreeRegressor\n",
    "\n",
    "\n"
   ]
  },
  {
   "cell_type": "markdown",
   "metadata": {},
   "source": [
    "در این فاز از پروژه تکنیک‌های مختلف ماشین لرنینگ را بر روی داده‌هایمان امتحان می‌کنیم. \n",
    "در دوره‌‌ی \n",
    "\n",
    "NISQ\n",
    "\n",
    "و وقتی هنوز منابع کافی برای روش‌های تصحیح خطای کوانتومی نداریم، یکی از کارهای رایج برای استفاده از برتری سیستم‌های کوانتومی استفاده از روش‌های\n",
    "\n",
    "Quantum Error Mitigation\n",
    "\n",
    "است. یکی از کارهای استفاده شده برای این کار استفاده‌های از روش‌های یادگیری ماشین است، مانند کار مقاله‌ی اخیر \n",
    "[1]\n",
    "که توسط گروهی در \n",
    "\n",
    "IBM\n",
    "\n",
    "انجام شده است.\n",
    "\n",
    "ما در پروژه‌ی این درس با شبیه‌سازی ساده‌تری روی تعداد کمی کیوبیت (۲) به دنبال دیدن اثر روش‌های یادگیری ماشین روی این مسئله هستیم. این می‌تواند مقدمه‌ی ورودمان به \n",
    "\n",
    "QEM\n",
    "\n",
    "باشد."
   ]
  },
  {
   "cell_type": "markdown",
   "metadata": {},
   "source": [
    "متریک مورد علاقه‌ی ما قاعدتا همان \n",
    "acurracy\n",
    "است. در این مسئله به طور خاص تفاوتی بین قدرت پیشبینی و دقت و این موارد برایمان وجود ندارد و همان \n",
    "acurray\n",
    "را به عنوان متریک می‌گیریم."
   ]
  },
  {
   "cell_type": "markdown",
   "metadata": {},
   "source": [
    "اینجا داده را بارگذاری می‌کنیم و فیچرها و لیبل‌ها را مشخص می‌کنیم. بعد هم داده‌های تست و ترین را جدا می‌کنیم. برای چک کردن چند مورد را پرینت می‌کنیم. موارد موجود فعلی در کد برای نویز زیادمان اجرا شده‌اند (به دلیل پیچیده‌تر شدن پیشبینی این را گذاشتیم و هم اینکه به نظر مقادیر دیگر خطا در آزمایش‌های واقعی فعلی خیلی دور از واقعیت هستند)."
   ]
  },
  {
   "cell_type": "code",
   "execution_count": 50,
   "metadata": {},
   "outputs": [
    {
     "name": "stdout",
     "output_type": "stream",
     "text": [
      "       feature1  feature2  feature3  feature4  feature5  feature6  feature7  \\\n",
      "6875   0.282221  0.245615  0.328518  0.202225  0.197829  0.196251  0.350738   \n",
      "7961   0.182009  0.610216  0.283315  0.288363  0.320239  0.118966  0.155179   \n",
      "63983  0.080492  0.558051  0.056745  0.128661  0.133675  0.469979  0.251594   \n",
      "29199  0.240811  0.546981  0.538299  0.533321  0.173559  0.446638  0.258191   \n",
      "83530  0.272312  0.223348  0.055761  0.202368  0.208411  0.346589  0.453288   \n",
      "...         ...       ...       ...       ...       ...       ...       ...   \n",
      "67084  0.331482  0.330791  0.440480  0.488400  0.146937  0.356597  0.261143   \n",
      "29863  0.253047  0.192283  0.168016  0.020672  0.607908  0.095149  0.370086   \n",
      "88824  0.271437  0.448918  0.114985  0.246101  0.253249  0.071384  0.217708   \n",
      "48652  0.479647  0.586673  0.156058  0.258368  0.203112  0.257006 -0.046217   \n",
      "53909  0.173973  0.417169  0.311789  0.509292  0.116918  0.188623  0.103024   \n",
      "\n",
      "       feature8  feature9  feature10  ...    label7    label8    label9  \\\n",
      "6875   0.406806  0.173725   0.363538  ...  0.180675  0.302466  0.263851   \n",
      "7961   0.137367  0.262653   0.389219  ...  0.185715  0.252294  0.256814   \n",
      "63983  0.329694  0.021062   0.329637  ...  0.250962  0.169111  0.113841   \n",
      "29199  0.145893  0.250151   0.145464  ...  0.121766  0.239086  0.219190   \n",
      "83530  0.370207  0.099216   0.523106  ...  0.484030  0.266529  0.222744   \n",
      "...         ...       ...        ...  ...       ...       ...       ...   \n",
      "67084  0.317147  0.276154   0.137369  ...  0.216295  0.129500  0.241166   \n",
      "29863  0.357932  0.551050   0.308105  ...  0.460370  0.278265  0.444200   \n",
      "88824  0.185170  0.233923   0.477840  ...  0.152079  0.156342  0.194914   \n",
      "48652  0.406956  0.302871   0.096245  ...  0.081874  0.258799  0.209170   \n",
      "53909  0.192788  0.176910   0.403915  ...  0.233127  0.214197  0.137317   \n",
      "\n",
      "        label10   label11   label12   label13   label14   label15   label16  \n",
      "6875   0.162901  0.191579  0.100839  0.326570  0.174271  0.137567  0.342592  \n",
      "7961   0.464405  0.328224  0.454669  0.163296  0.418682  0.226622  0.270666  \n",
      "63983  0.336292  0.192916  0.192580  0.104444  0.453714  0.238347  0.211780  \n",
      "29199  0.207401  0.274967  0.359437  0.186324  0.292026  0.336069  0.366946  \n",
      "83530  0.380715  0.467758  0.181201  0.194169  0.439537  0.354366  0.315233  \n",
      "...         ...       ...       ...       ...       ...       ...       ...  \n",
      "67084  0.305368  0.318859  0.281118  0.278933  0.232650  0.314920  0.208348  \n",
      "29863  0.213287  0.536099  0.248431  0.152474  0.186245  0.270194  0.247134  \n",
      "88824  0.358669  0.154306  0.264786  0.062186  0.333426  0.163468  0.122126  \n",
      "48652  0.117855  0.243390  0.200977  0.230320  0.407018  0.257504  0.357941  \n",
      "53909  0.399356  0.155573  0.439260  0.192325  0.313231  0.321051  0.368294  \n",
      "\n",
      "[20000 rows x 32 columns]\n"
     ]
    }
   ],
   "source": [
    "noise_std = 0.1\n",
    "\n",
    "df = pd.read_csv('Tomography - noise_' + str(noise_std) + ' - No of removed measurements_0.csv')\n",
    "\n",
    "\n",
    "df = df.drop('Unnamed: 0', axis=1)\n",
    "\n",
    "# df = df.sample(n=10000)\n",
    "df = df.sample(n=20000)\n",
    "\n",
    "print(df)\n",
    "\n",
    "# X = df[[\"feature2\", \"feature3\", \"feature4\", \"feature5\", \"feature6\", \"feature7\", \"feature8\", \"feature9\", \"feature10\", \"feature11\", \"feature12\", \"feature13\", \"feature14\", \"feature15\", \"feature16\"]].multiply(1/df['feature1'], axis=\"index\").to_numpy()\n",
    "\n",
    "X = df[[\"feature1\", \"feature2\", \"feature3\", \"feature4\", \"feature5\", \"feature6\", \"feature7\", \"feature8\", \"feature9\", \"feature10\", \"feature11\", \"feature12\", \"feature13\", \"feature14\", \"feature15\", \"feature16\"]].to_numpy()\n",
    "\n",
    "\n",
    "Y = df[[\"label1\", \"label2\", \"label3\", \"label4\", \"label5\", \"label6\", \"label7\", \"label8\", \"label9\", \"label10\", \"label11\", \"label12\", \"label13\", \"label14\", \"label15\", \"label16\"]].to_numpy()\n",
    "\n",
    "# X_train, X_test, Y_train, Y_test = train_test_split(X, Y, test_size=0.15)\n",
    "X_train, X_test, Y_train, Y_test = train_test_split(X, Y, test_size=0.2)\n",
    "\n",
    "\n",
    "free_params = 16\n",
    "\n",
    "# print(X[0])"
   ]
  },
  {
   "cell_type": "code",
   "execution_count": 9,
   "metadata": {},
   "outputs": [
    {
     "name": "stdout",
     "output_type": "stream",
     "text": [
      "[[ 0.36021004  0.18525604  0.46004792 ...  0.37169932  0.01212476\n",
      "   0.2509475 ]\n",
      " [ 0.18316001  0.04948473  0.13402611 ...  0.27028697  0.19831485\n",
      "   0.1991785 ]\n",
      " [ 0.3170193   0.37440653  0.21051195 ...  0.21749798  0.16116635\n",
      "   0.30791417]\n",
      " ...\n",
      " [ 0.19387948  0.02640618 -0.22675961 ...  0.22460312  0.18864726\n",
      "   0.52711172]\n",
      " [ 0.45053579  0.38618335  0.21550925 ...  0.32944406  0.35732761\n",
      "  -0.15370092]\n",
      " [ 0.71310809  0.09830402  0.78411679 ...  0.18551987  0.48345202\n",
      "   0.12587136]]\n",
      "[[0.20520772 0.30156288 0.37937953 ... 0.25344701 0.12934532 0.26725558]\n",
      " [0.24109173 0.20162929 0.19457792 ... 0.17943239 0.1566168  0.2086021 ]\n",
      " [0.32695779 0.26773524 0.21834567 ... 0.31106296 0.21699046 0.38860118]\n",
      " ...\n",
      " [0.16549376 0.10032894 0.02202469 ... 0.13415508 0.12776541 0.49711917]\n",
      " [0.46910969 0.32798787 0.23583157 ... 0.32519784 0.25814322 0.00392205]\n",
      " [0.7402095  0.13538481 0.71421617 ... 0.20959174 0.48301157 0.22068237]]\n"
     ]
    }
   ],
   "source": [
    "print(X)\n",
    "print(Y)"
   ]
  },
  {
   "cell_type": "markdown",
   "metadata": {},
   "source": [
    "در اینجا رگرسیون خطی را امتحان می‌کنیم. چند درجه‌ی مختلف چندجمله‌ای متناظر با چند پیچیدگی مختلف را امتحان می‌کنیم. در اینجا چون تعداد فیچرهای مسُله‌ی مان زیاد است درجات بالاتر چند جمله‌ای را عملا کامپیوتر نمی‌توانست حساب کند. به این دلیل در این بخش یک پنجم کل داده را در نظر گرفتیم و نسبت داده‌های تست را هم ۰.۲ کردیم."
   ]
  },
  {
   "cell_type": "markdown",
   "metadata": {},
   "source": [
    "Linear Regression"
   ]
  },
  {
   "cell_type": "code",
   "execution_count": 6,
   "metadata": {},
   "outputs": [
    {
     "name": "stdout",
     "output_type": "stream",
     "text": [
      "(20000, 16) (16000, 17)\n",
      "(20000, 16) (16000, 153)\n",
      "(20000, 16) (16000, 969)\n",
      "(20000, 16) (16000, 4845)\n",
      "(20000, 16) (16000, 20349)\n"
     ]
    }
   ],
   "source": [
    "# deg = 5\n",
    "# regr = Pipeline([('poly', PolynomialFeatures(degree=deg) ), ('model', LinearRegression() )])\n",
    "# regr.fit( X_train, Y_train )\n",
    "\n",
    "\n",
    "\n",
    "\n",
    "\n",
    "regr = MultiOutputRegressor(SGDRegressor(learning_rate='adaptive'), n_jobs=-1)\n",
    "\n",
    "\n",
    "list_of_degrees = np.arange(1, 6)\n",
    "\n",
    "test_scores_reg = np.zeros(len(list_of_degrees))\n",
    "train_scores_reg = np.zeros(len(list_of_degrees))\n",
    "\n",
    "for degree in range(len(list_of_degrees)):\n",
    "    degree_of_polynomial = list_of_degrees[degree]\n",
    "\n",
    "    poly = PolynomialFeatures(degree_of_polynomial)\n",
    "    X_train_new = poly.fit_transform(X_train)\n",
    "    X_test_new = poly.fit_transform(X_test)\n",
    "\n",
    "    print(X.shape, X_train_new.shape)\n",
    "\n",
    "    regr = MultiOutputRegressor(SGDRegressor(learning_rate='adaptive'), n_jobs=-1).fit(X_train_new, Y_train)\n",
    "\n",
    "\n",
    "    ##### Y_pred_train = regr.predict(X_train_new )\n",
    "    ##### Y_pred_test = regr.predict(X_test_new )\n",
    "    train_scores_reg[degree] = regr.score(X_train_new, Y_train)\n",
    "    test_scores_reg[degree] = regr.score(X_test_new, Y_test)\n",
    "\n",
    "    ##### train_scores_reg[degree] = np.sum((Y_train-Y_pred_train)**2)/len(Y_train)\n",
    "    ##### test_scores_reg[degree] = np.sum((Y_test-Y_pred_test)**2)/len(Y_test)\n"
   ]
  },
  {
   "cell_type": "code",
   "execution_count": 7,
   "metadata": {},
   "outputs": [
    {
     "data": {
      "text/plain": [
       "[]"
      ]
     },
     "execution_count": 7,
     "metadata": {},
     "output_type": "execute_result"
    },
    {
     "data": {
      "image/png": "[encoded data removed]",
      "text/plain": [
       "<Figure size 432x288 with 1 Axes>"
      ]
     },
     "metadata": {
      "needs_background": "light"
     },
     "output_type": "display_data"
    }
   ],
   "source": [
    "\n",
    "\n",
    "plt.plot(list_of_degrees, train_scores_reg, color='m', label='Train Scores') \n",
    "plt.plot(list_of_degrees, test_scores_reg, color='g', label='Test Scores') \n",
    "\n",
    "plt.title('Validation Curve - Linear Regression (SGD)')\n",
    "plt.xlabel('Degree of Polynomial')\n",
    "plt.ylabel('Score')\n",
    "plt.legend()\n",
    "\n",
    "plt.plot()\n"
   ]
  },
  {
   "cell_type": "markdown",
   "metadata": {},
   "source": [
    "همانطور که از نمودار دیده می‌شود، چندجمله‌ای درجه‌ی ۲ می‌تواند بهترین انتخاب باشد. \n",
    "\n",
    "منحنی یادگیری را هم در پایین رسم می‌کنیم. اینجا البته دیگر چون نتیجه چند جمله‌ای درجه ۲ شد و مشکل خاصی نیست از کل داده استفاده می‌کنیم."
   ]
  },
  {
   "cell_type": "code",
   "execution_count": 11,
   "metadata": {},
   "outputs": [
    {
     "name": "stdout",
     "output_type": "stream",
     "text": [
      "(100000, 16) (85000, 153)\n",
      "(100000, 16) (85000, 153)\n"
     ]
    }
   ],
   "source": [
    "degree_of_polynomial = 2\n",
    "\n",
    "poly = PolynomialFeatures(degree_of_polynomial)\n",
    "X_train_new = poly.fit_transform(X_train)\n",
    "X_test_new = poly.fit_transform(X_test)\n",
    "\n",
    "print(X.shape, X_train_new.shape)\n",
    "\n",
    "regr = MultiOutputRegressor(SGDRegressor(learning_rate='adaptive'), n_jobs=-1).fit(X_train_new, Y_train)\n",
    "\n",
    "print(X.shape, X_train_new.shape)\n",
    "\n",
    "train_frac = np.linspace(0.1, 1.0, 10)\n",
    "\n",
    "train_size_abs, train_scores, test_scores = learning_curve(regr, X_train, Y_train, train_sizes=train_frac , cv=5, n_jobs=-1)"
   ]
  },
  {
   "cell_type": "code",
   "execution_count": 12,
   "metadata": {},
   "outputs": [],
   "source": [
    "# print(train_size_abs, test_scores, test_scores.mean(axis=1))\n",
    "\n",
    "test_scores = test_scores.mean(axis=1)\n",
    "train_scores = train_scores.mean(axis=1)"
   ]
  },
  {
   "cell_type": "code",
   "execution_count": 13,
   "metadata": {},
   "outputs": [
    {
     "data": {
      "text/plain": [
       "[]"
      ]
     },
     "execution_count": 13,
     "metadata": {},
     "output_type": "execute_result"
    },
    {
     "data": {
      "image/png": "[encoded data removed]",
      "text/plain": [
       "<Figure size 432x288 with 1 Axes>"
      ]
     },
     "metadata": {
      "needs_background": "light"
     },
     "output_type": "display_data"
    }
   ],
   "source": [
    "samples_used = train_frac * len(X_train)\n",
    "\n",
    "# plt.clf()\n",
    "\n",
    "plt.plot(samples_used, train_scores, color='m', label='Train Scores') \n",
    "plt.plot(samples_used, test_scores, color='g', label='Test Scores') \n",
    "\n",
    "plt.title('Learning Curve - Linear Regression (SGD)')\n",
    "plt.xlabel('Number of Samples Used')\n",
    "plt.ylabel('Score')\n",
    "plt.legend()\n",
    "\n",
    "plt.plot()"
   ]
  },
  {
   "cell_type": "markdown",
   "metadata": {},
   "source": [
    "طبق منحنی یادگیری بالا، داده‌هایمان کافی هستند. حتی مقدار کمتری از داده هم کافی بود. در این بازه‌ی داده شده خیلی تفاوت خاصی مشاهده نمی‌شود.\n",
    "\n",
    "در ادامه کار مشابهی را برای\n",
    "KNN\n",
    "می‌کنیم. \n",
    "\n",
    "برای چند پیچیدگی مختلف نمودار \n",
    "validation\n",
    "را رسم می‌کنیم"
   ]
  },
  {
   "cell_type": "markdown",
   "metadata": {},
   "source": [
    "KNN"
   ]
  },
  {
   "cell_type": "code",
   "execution_count": 28,
   "metadata": {},
   "outputs": [
    {
     "name": "stdout",
     "output_type": "stream",
     "text": [
      "1 6\n",
      "2 6\n",
      "3 6\n",
      "4 6\n",
      "5 6\n",
      "6 6\n"
     ]
    }
   ],
   "source": [
    "list_of_neighbors = np.arange(1, 30, 5)\n",
    "\n",
    "test_scores_knn_normal = np.zeros(len(list_of_neighbors))\n",
    "train_scores_knn_normal = np.zeros(len(list_of_neighbors))\n",
    "\n",
    "# test_scores_knn_distance = np.zeros(len(list_of_neighbors))\n",
    "# train_scores_knn_distance = np.zeros(len(list_of_neighbors))\n",
    "\n",
    "for neighbors in range(len(list_of_neighbors)):\n",
    "\n",
    "    number_of_neighbors = list_of_neighbors[neighbors]\n",
    "\n",
    "\n",
    "    neigh_normal = KNeighborsRegressor(n_neighbors= number_of_neighbors, weights='uniform', n_jobs=-1)\n",
    "    neigh_normal.fit(X_train, Y_train)\n",
    "\n",
    "    # neigh_distance = KNeighborsRegressor(n_neighbors= number_of_neighbors, weights='distance')\n",
    "    # neigh_distance.fit(X_train, Y_train)\n",
    "\n",
    "    print(neighbors+1, len(list_of_neighbors))\n",
    "\n",
    "    \n",
    "\n",
    "    train_scores_knn_normal[neighbors] = neigh_normal.score(X_train, Y_train)\n",
    "    test_scores_knn_normal[neighbors] = neigh_normal.score(X_test, Y_test)\n",
    "\n",
    "    # train_scores_knn_distance[neighbors] = neigh_distance.score(X_train, Y_train)\n",
    "    # test_scores_knn_distance[neighbors] = neigh_distance.score(X_test, Y_test)"
   ]
  },
  {
   "cell_type": "code",
   "execution_count": 29,
   "metadata": {},
   "outputs": [
    {
     "data": {
      "text/plain": [
       "[]"
      ]
     },
     "execution_count": 29,
     "metadata": {},
     "output_type": "execute_result"
    },
    {
     "data": {
      "image/png": "[encoded data removed]",
      "text/plain": [
       "<Figure size 432x288 with 1 Axes>"
      ]
     },
     "metadata": {
      "needs_background": "light"
     },
     "output_type": "display_data"
    }
   ],
   "source": [
    "plt.plot(list_of_neighbors, train_scores_knn_normal, color='m', label='Train Scores - Normal') \n",
    "plt.plot(list_of_neighbors, test_scores_knn_normal, color='g', label='Test Scores - Normal') \n",
    "\n",
    "# plt.plot(list_of_neighbors, train_scores_knn_distance, color='c', label='Train Scores - Distance') \n",
    "# plt.plot(list_of_neighbors, test_scores_knn_distance, color='b', label='Test Scores - Distance') \n",
    "\n",
    "plt.title('Validation Curve - KNN')\n",
    "plt.xlabel('Number of Neighbors')\n",
    "plt.ylabel('Score')\n",
    "plt.legend()\n",
    "\n",
    "plt.plot()"
   ]
  },
  {
   "cell_type": "markdown",
   "metadata": {},
   "source": [
    "طبق نمودار بالا، به نظر تعداد همسایه‌های حدود 15 خوب کار می‌کند. در ادامه منحنی یادگیری را هم رسم می‌کنیم."
   ]
  },
  {
   "cell_type": "code",
   "execution_count": 31,
   "metadata": {},
   "outputs": [],
   "source": [
    "neigh_distance = KNeighborsRegressor(n_neighbors= 15, weights='uniform')\n",
    "\n",
    "\n",
    "\n",
    "# train_size_abs, train_scores, test_scores = learning_curve(neigh_distance, X, Y, train_sizes=sizes_of_train)\n",
    "\n",
    "train_frac = np.linspace(0.1, 1.0, 10)\n",
    "\n",
    "train_size_abs, train_scores, test_scores = learning_curve(neigh_distance, X_train, Y_train, train_sizes=train_frac , cv=5, n_jobs=-1)"
   ]
  },
  {
   "cell_type": "code",
   "execution_count": 32,
   "metadata": {},
   "outputs": [],
   "source": [
    "test_scores = test_scores.mean(axis=1)\n",
    "train_scores = train_scores.mean(axis=1)"
   ]
  },
  {
   "cell_type": "code",
   "execution_count": 33,
   "metadata": {},
   "outputs": [
    {
     "data": {
      "text/plain": [
       "[]"
      ]
     },
     "execution_count": 33,
     "metadata": {},
     "output_type": "execute_result"
    },
    {
     "data": {
      "image/png": "[encoded data removed]",
      "text/plain": [
       "<Figure size 432x288 with 1 Axes>"
      ]
     },
     "metadata": {
      "needs_background": "light"
     },
     "output_type": "display_data"
    }
   ],
   "source": [
    "samples_used = train_frac * len(X_train)\n",
    "\n",
    "plt.plot(samples_used, train_scores, color='m', label='Train Scores') \n",
    "plt.plot(samples_used, test_scores, color='g', label='Test Scores') \n",
    "\n",
    "plt.title('Learning Curve - KNN')\n",
    "plt.xlabel('Data Size')\n",
    "plt.ylabel('Score')\n",
    "plt.legend()\n",
    "\n",
    "plt.plot()"
   ]
  },
  {
   "cell_type": "code",
   "execution_count": 36,
   "metadata": {},
   "outputs": [
    {
     "name": "stdout",
     "output_type": "stream",
     "text": [
      "[0.64478674 0.65729039 0.66359693 0.66889526 0.67260275 0.67578458\n",
      " 0.67810837 0.68008328 0.68157084 0.68253051]\n",
      "[0.59113688 0.60744357 0.61634633 0.62173356 0.6256808  0.6287128\n",
      " 0.6312861  0.6335251  0.63551994 0.63675491]\n"
     ]
    }
   ],
   "source": [
    "print(train_scores)\n",
    "print(test_scores)"
   ]
  },
  {
   "cell_type": "markdown",
   "metadata": {},
   "source": [
    "طبق منحنی مقدار داده‌هایمان بیشتر شود بهتر است. اول برای ۲۰ هزار امتحان کردیم که واضحا کافی نبود، کل داده را که گرفتیم بهتر شد ولی کامل نیست همچنان. کار مشابهی را برای بقیه‌ی فرضیه‌ها انجام می‌دهیم.\n",
    "\n",
    "اینجا هم مشابه رگرسیون خطی تعداد داده‌ها را کم کردیم."
   ]
  },
  {
   "cell_type": "markdown",
   "metadata": {},
   "source": [
    "تاثیر متریک‌ها را هم چک می‌کنیم"
   ]
  },
  {
   "cell_type": "code",
   "execution_count": 45,
   "metadata": {},
   "outputs": [
    {
     "name": "stdout",
     "output_type": "stream",
     "text": [
      "cityblock: \n",
      "0.6496352784691473 0.6014216217027506\n",
      "cosine: \n",
      "0.6377876645146501 0.5871979971312772\n",
      "euclidean: \n",
      "0.6607488598487401 0.6130097058211816\n",
      "l1: \n",
      "0.6496352784691473 0.6014216217027506\n",
      "l2: \n",
      "0.6607488598487401 0.6130097058211816\n",
      "manhattan: \n",
      "0.6496352784691473 0.6014216217027506\n",
      "nan_euclidean: \n",
      "0.6607488598487401 0.6130097058211816\n"
     ]
    }
   ],
   "source": [
    "neigh_cityblock = KNeighborsRegressor(n_neighbors= 15, metric='cityblock')\n",
    "neigh_cityblock.fit(X_train, Y_train)\n",
    "\n",
    "neigh_cosine = KNeighborsRegressor(n_neighbors= 15, metric='cosine')\n",
    "neigh_cosine.fit(X_train, Y_train)\n",
    "\n",
    "neigh_euclidean = KNeighborsRegressor(n_neighbors= 15, metric='euclidean')\n",
    "neigh_euclidean.fit(X_train, Y_train)\n",
    "\n",
    "neigh_l1 = KNeighborsRegressor(n_neighbors= 15, metric='l1')\n",
    "neigh_l1.fit(X_train, Y_train)\n",
    "\n",
    "neigh_l2 = KNeighborsRegressor(n_neighbors= 15, metric='l2')\n",
    "neigh_l2.fit(X_train, Y_train)\n",
    "\n",
    "neigh_manhattan = KNeighborsRegressor(n_neighbors= 15, metric='manhattan')\n",
    "neigh_manhattan.fit(X_train, Y_train)\n",
    "\n",
    "neigh_nan_euclidean = KNeighborsRegressor(n_neighbors= 15, metric='nan_euclidean')\n",
    "neigh_nan_euclidean.fit(X_train, Y_train)\n",
    "\n",
    "\n",
    "\n",
    "train_scores_knn_cityblock = neigh_cityblock.score(X_train, Y_train)\n",
    "test_scores_knn_cityblock = neigh_cityblock.score(X_test, Y_test)\n",
    "\n",
    "print('cityblock: ')\n",
    "print(train_scores_knn_cityblock, test_scores_knn_cityblock)\n",
    "\n",
    "train_scores_knn_cosine = neigh_cosine.score(X_train, Y_train)\n",
    "test_scores_knn_cosine = neigh_cosine.score(X_test, Y_test)\n",
    "\n",
    "print('cosine: ')\n",
    "print(train_scores_knn_cosine, test_scores_knn_cosine)\n",
    "\n",
    "\n",
    "train_scores_knn_euclidean = neigh_euclidean.score(X_train, Y_train)\n",
    "test_scores_knn_euclidean = neigh_euclidean.score(X_test, Y_test)\n",
    "\n",
    "print('euclidean: ')\n",
    "print(train_scores_knn_euclidean, test_scores_knn_euclidean)\n",
    "\n",
    "\n",
    "\n",
    "train_scores_knn_l1 = neigh_l1.score(X_train, Y_train)\n",
    "test_scores_knn_l1 = neigh_l1.score(X_test, Y_test)\n",
    "\n",
    "print('l1: ')\n",
    "print(train_scores_knn_l1, test_scores_knn_l1)\n",
    "\n",
    "train_scores_knn_l2 = neigh_l2.score(X_train, Y_train)\n",
    "test_scores_knn_l2 = neigh_l2.score(X_test, Y_test)\n",
    "\n",
    "print('l2: ')\n",
    "print(train_scores_knn_l2, test_scores_knn_l2)\n",
    "\n",
    "\n",
    "train_scores_knn_manhattan = neigh_manhattan.score(X_train, Y_train)\n",
    "test_scores_knn_manhattan = neigh_manhattan.score(X_test, Y_test)\n",
    "\n",
    "print('manhattan: ')\n",
    "print(train_scores_knn_manhattan, test_scores_knn_manhattan)\n",
    "\n",
    "train_scores_knn_nan_euclidean = neigh_nan_euclidean.score(X_train, Y_train)\n",
    "test_scores_knn_nan_euclidean = neigh_nan_euclidean.score(X_test, Y_test)\n",
    "\n",
    "print('nan_euclidean: ')\n",
    "print(train_scores_knn_nan_euclidean, test_scores_knn_nan_euclidean)"
   ]
  },
  {
   "cell_type": "markdown",
   "metadata": {},
   "source": [
    "همانطور که میبینیم تفاوت فاحشی وجود ندارد. اما \n",
    "\n",
    "l2\n",
    "\n",
    "و\n",
    "\n",
    "nan_euclidean\n",
    "\n",
    "بهتر از بقیه کار می‌کنند"
   ]
  },
  {
   "cell_type": "markdown",
   "metadata": {},
   "source": [
    "Random Forest"
   ]
  },
  {
   "cell_type": "code",
   "execution_count": 28,
   "metadata": {},
   "outputs": [
    {
     "name": "stdout",
     "output_type": "stream",
     "text": [
      "1 5\n",
      "2 5\n",
      "3 5\n",
      "4 5\n",
      "5 5\n"
     ]
    }
   ],
   "source": [
    "\n",
    "# list_of_depth = np.array([1, 5, 10])\n",
    "\n",
    "# list_of_depth = np.array([5, 10, 20, 22, 25])\n",
    "\n",
    "list_of_depth = np.array([10, 15, 18, 20, 22])\n",
    "\n",
    "test_scores_random_forest = np.zeros(len(list_of_depth))\n",
    "train_scores_random_forest = np.zeros(len(list_of_depth))\n",
    "\n",
    "for depth_count in range(len(list_of_depth)):\n",
    "    depth = list_of_depth[depth_count]\n",
    "\n",
    "    # X_train, Y_train = make_regression(shuffle=False)\n",
    "    # X_train, Y_train = make_regression()\n",
    "    regr_forest = RandomForestRegressor(max_depth= depth)\n",
    "    regr_forest.fit(X_train, Y_train)\n",
    "\n",
    "    print(depth_count+1, len(list_of_depth))\n",
    "\n",
    "    \n",
    "    \n",
    "    train_scores_random_forest[depth_count] = regr_forest.score(X_train, Y_train)\n",
    "    test_scores_random_forest[depth_count] = regr_forest.score(X_test, Y_test)\n",
    "\n"
   ]
  },
  {
   "cell_type": "code",
   "execution_count": 29,
   "metadata": {},
   "outputs": [
    {
     "data": {
      "text/plain": [
       "[]"
      ]
     },
     "execution_count": 29,
     "metadata": {},
     "output_type": "execute_result"
    },
    {
     "data": {
      "image/png": "[encoded data removed]",
      "text/plain": [
       "<Figure size 432x288 with 1 Axes>"
      ]
     },
     "metadata": {
      "needs_background": "light"
     },
     "output_type": "display_data"
    }
   ],
   "source": [
    "\n",
    "\n",
    "plt.plot(list_of_depth, train_scores_random_forest, color='m', label='Train Scores') \n",
    "plt.plot(list_of_depth, test_scores_random_forest, color='g', label='Test Scores') \n",
    "\n",
    "plt.title('Validation Curve - Random Forest')\n",
    "plt.xlabel('Degree')\n",
    "plt.ylabel('Score')\n",
    "plt.legend()\n",
    "\n",
    "plt.plot()"
   ]
  },
  {
   "cell_type": "markdown",
   "metadata": {},
   "source": [
    "طبق نمودار، عمق حدود ۱۸ منطقی به نظر می‌رسد.\n",
    "\n",
    "اما اورفیت داریم."
   ]
  },
  {
   "cell_type": "code",
   "execution_count": 57,
   "metadata": {},
   "outputs": [
    {
     "data": {
      "text/html": [
       "<style>#sk-container-id-3 {color: black;background-color: white;}#sk-container-id-3 pre{padding: 0;}#sk-container-id-3 div.sk-toggleable {background-color: white;}#sk-container-id-3 label.sk-toggleable__label {cursor: pointer;display: block;width: 100%;margin-bottom: 0;padding: 0.3em;box-sizing: border-box;text-align: center;}#sk-container-id-3 label.sk-toggleable__label-arrow:before {content: \"▸\";float: left;margin-right: 0.25em;color: #696969;}#sk-container-id-3 label.sk-toggleable__label-arrow:hover:before {color: black;}#sk-container-id-3 div.sk-estimator:hover label.sk-toggleable__label-arrow:before {color: black;}#sk-container-id-3 div.sk-toggleable__content {max-height: 0;max-width: 0;overflow: hidden;text-align: left;background-color: #f0f8ff;}#sk-container-id-3 div.sk-toggleable__content pre {margin: 0.2em;color: black;border-radius: 0.25em;background-color: #f0f8ff;}#sk-container-id-3 input.sk-toggleable__control:checked~div.sk-toggleable__content {max-height: 200px;max-width: 100%;overflow: auto;}#sk-container-id-3 input.sk-toggleable__control:checked~label.sk-toggleable__label-arrow:before {content: \"▾\";}#sk-container-id-3 div.sk-estimator input.sk-toggleable__control:checked~label.sk-toggleable__label {background-color: #d4ebff;}#sk-container-id-3 div.sk-label input.sk-toggleable__control:checked~label.sk-toggleable__label {background-color: #d4ebff;}#sk-container-id-3 input.sk-hidden--visually {border: 0;clip: rect(1px 1px 1px 1px);clip: rect(1px, 1px, 1px, 1px);height: 1px;margin: -1px;overflow: hidden;padding: 0;position: absolute;width: 1px;}#sk-container-id-3 div.sk-estimator {font-family: monospace;background-color: #f0f8ff;border: 1px dotted black;border-radius: 0.25em;box-sizing: border-box;margin-bottom: 0.5em;}#sk-container-id-3 div.sk-estimator:hover {background-color: #d4ebff;}#sk-container-id-3 div.sk-parallel-item::after {content: \"\";width: 100%;border-bottom: 1px solid gray;flex-grow: 1;}#sk-container-id-3 div.sk-label:hover label.sk-toggleable__label {background-color: #d4ebff;}#sk-container-id-3 div.sk-serial::before {content: \"\";position: absolute;border-left: 1px solid gray;box-sizing: border-box;top: 0;bottom: 0;left: 50%;z-index: 0;}#sk-container-id-3 div.sk-serial {display: flex;flex-direction: column;align-items: center;background-color: white;padding-right: 0.2em;padding-left: 0.2em;position: relative;}#sk-container-id-3 div.sk-item {position: relative;z-index: 1;}#sk-container-id-3 div.sk-parallel {display: flex;align-items: stretch;justify-content: center;background-color: white;position: relative;}#sk-container-id-3 div.sk-item::before, #sk-container-id-3 div.sk-parallel-item::before {content: \"\";position: absolute;border-left: 1px solid gray;box-sizing: border-box;top: 0;bottom: 0;left: 50%;z-index: -1;}#sk-container-id-3 div.sk-parallel-item {display: flex;flex-direction: column;z-index: 1;position: relative;background-color: white;}#sk-container-id-3 div.sk-parallel-item:first-child::after {align-self: flex-end;width: 50%;}#sk-container-id-3 div.sk-parallel-item:last-child::after {align-self: flex-start;width: 50%;}#sk-container-id-3 div.sk-parallel-item:only-child::after {width: 0;}#sk-container-id-3 div.sk-dashed-wrapped {border: 1px dashed gray;margin: 0 0.4em 0.5em 0.4em;box-sizing: border-box;padding-bottom: 0.4em;background-color: white;}#sk-container-id-3 div.sk-label label {font-family: monospace;font-weight: bold;display: inline-block;line-height: 1.2em;}#sk-container-id-3 div.sk-label-container {text-align: center;}#sk-container-id-3 div.sk-container {/* jupyter's `normalize.less` sets `[hidden] { display: none; }` but bootstrap.min.css set `[hidden] { display: none !important; }` so we also need the `!important` here to be able to override the default hidden behavior on the sphinx rendered scikit-learn.org. See: https://github.com/scikit-learn/scikit-learn/issues/21755 */display: inline-block !important;position: relative;}#sk-container-id-3 div.sk-text-repr-fallback {display: none;}</style><div id=\"sk-container-id-3\" class=\"sk-top-container\"><div class=\"sk-text-repr-fallback\"><pre>GridSearchCV(cv=4, estimator=RandomForestRegressor(max_depth=18), n_jobs=-1,\n",
       "             param_grid={&#x27;n_estimators&#x27;: [10, 30, 70]})</pre><b>In a Jupyter environment, please rerun this cell to show the HTML representation or trust the notebook. <br />On GitHub, the HTML representation is unable to render, please try loading this page with nbviewer.org.</b></div><div class=\"sk-container\" hidden><div class=\"sk-item sk-dashed-wrapped\"><div class=\"sk-label-container\"><div class=\"sk-label sk-toggleable\"><input class=\"sk-toggleable__control sk-hidden--visually\" id=\"sk-estimator-id-7\" type=\"checkbox\" ><label for=\"sk-estimator-id-7\" class=\"sk-toggleable__label sk-toggleable__label-arrow\">GridSearchCV</label><div class=\"sk-toggleable__content\"><pre>GridSearchCV(cv=4, estimator=RandomForestRegressor(max_depth=18), n_jobs=-1,\n",
       "             param_grid={&#x27;n_estimators&#x27;: [10, 30, 70]})</pre></div></div></div><div class=\"sk-parallel\"><div class=\"sk-parallel-item\"><div class=\"sk-item\"><div class=\"sk-label-container\"><div class=\"sk-label sk-toggleable\"><input class=\"sk-toggleable__control sk-hidden--visually\" id=\"sk-estimator-id-8\" type=\"checkbox\" ><label for=\"sk-estimator-id-8\" class=\"sk-toggleable__label sk-toggleable__label-arrow\">estimator: RandomForestRegressor</label><div class=\"sk-toggleable__content\"><pre>RandomForestRegressor(max_depth=18)</pre></div></div></div><div class=\"sk-serial\"><div class=\"sk-item\"><div class=\"sk-estimator sk-toggleable\"><input class=\"sk-toggleable__control sk-hidden--visually\" id=\"sk-estimator-id-9\" type=\"checkbox\" ><label for=\"sk-estimator-id-9\" class=\"sk-toggleable__label sk-toggleable__label-arrow\">RandomForestRegressor</label><div class=\"sk-toggleable__content\"><pre>RandomForestRegressor(max_depth=18)</pre></div></div></div></div></div></div></div></div></div></div>"
      ],
      "text/plain": [
       "GridSearchCV(cv=4, estimator=RandomForestRegressor(max_depth=18), n_jobs=-1,\n",
       "             param_grid={'n_estimators': [10, 30, 70]})"
      ]
     },
     "execution_count": 57,
     "metadata": {},
     "output_type": "execute_result"
    }
   ],
   "source": [
    "params_dist_random_forest = {'n_estimators' : [10, 30, 70]}\n",
    "\n",
    "\n",
    "\n",
    "regr_forest = RandomForestRegressor(max_depth= 18)\n",
    "\n",
    "opt_clf2 = GridSearchCV(regr_forest, param_grid=params_dist_random_forest, cv=4, n_jobs=-1)\n",
    "\n",
    "opt_clf2.fit(X_train,Y_train)\n",
    "\n"
   ]
  },
  {
   "cell_type": "code",
   "execution_count": 59,
   "metadata": {},
   "outputs": [
    {
     "name": "stdout",
     "output_type": "stream",
     "text": [
      "0.9318458591076733 0.5864162477231596 {'n_estimators': 70}\n"
     ]
    }
   ],
   "source": [
    "\n",
    "\n",
    "print(opt_clf2.score(X_train, Y_train), opt_clf2.score(X_test, Y_test), opt_clf2.best_params_ )"
   ]
  },
  {
   "cell_type": "code",
   "execution_count": 60,
   "metadata": {},
   "outputs": [
    {
     "data": {
      "text/html": [
       "<style>#sk-container-id-4 {color: black;background-color: white;}#sk-container-id-4 pre{padding: 0;}#sk-container-id-4 div.sk-toggleable {background-color: white;}#sk-container-id-4 label.sk-toggleable__label {cursor: pointer;display: block;width: 100%;margin-bottom: 0;padding: 0.3em;box-sizing: border-box;text-align: center;}#sk-container-id-4 label.sk-toggleable__label-arrow:before {content: \"▸\";float: left;margin-right: 0.25em;color: #696969;}#sk-container-id-4 label.sk-toggleable__label-arrow:hover:before {color: black;}#sk-container-id-4 div.sk-estimator:hover label.sk-toggleable__label-arrow:before {color: black;}#sk-container-id-4 div.sk-toggleable__content {max-height: 0;max-width: 0;overflow: hidden;text-align: left;background-color: #f0f8ff;}#sk-container-id-4 div.sk-toggleable__content pre {margin: 0.2em;color: black;border-radius: 0.25em;background-color: #f0f8ff;}#sk-container-id-4 input.sk-toggleable__control:checked~div.sk-toggleable__content {max-height: 200px;max-width: 100%;overflow: auto;}#sk-container-id-4 input.sk-toggleable__control:checked~label.sk-toggleable__label-arrow:before {content: \"▾\";}#sk-container-id-4 div.sk-estimator input.sk-toggleable__control:checked~label.sk-toggleable__label {background-color: #d4ebff;}#sk-container-id-4 div.sk-label input.sk-toggleable__control:checked~label.sk-toggleable__label {background-color: #d4ebff;}#sk-container-id-4 input.sk-hidden--visually {border: 0;clip: rect(1px 1px 1px 1px);clip: rect(1px, 1px, 1px, 1px);height: 1px;margin: -1px;overflow: hidden;padding: 0;position: absolute;width: 1px;}#sk-container-id-4 div.sk-estimator {font-family: monospace;background-color: #f0f8ff;border: 1px dotted black;border-radius: 0.25em;box-sizing: border-box;margin-bottom: 0.5em;}#sk-container-id-4 div.sk-estimator:hover {background-color: #d4ebff;}#sk-container-id-4 div.sk-parallel-item::after {content: \"\";width: 100%;border-bottom: 1px solid gray;flex-grow: 1;}#sk-container-id-4 div.sk-label:hover label.sk-toggleable__label {background-color: #d4ebff;}#sk-container-id-4 div.sk-serial::before {content: \"\";position: absolute;border-left: 1px solid gray;box-sizing: border-box;top: 0;bottom: 0;left: 50%;z-index: 0;}#sk-container-id-4 div.sk-serial {display: flex;flex-direction: column;align-items: center;background-color: white;padding-right: 0.2em;padding-left: 0.2em;position: relative;}#sk-container-id-4 div.sk-item {position: relative;z-index: 1;}#sk-container-id-4 div.sk-parallel {display: flex;align-items: stretch;justify-content: center;background-color: white;position: relative;}#sk-container-id-4 div.sk-item::before, #sk-container-id-4 div.sk-parallel-item::before {content: \"\";position: absolute;border-left: 1px solid gray;box-sizing: border-box;top: 0;bottom: 0;left: 50%;z-index: -1;}#sk-container-id-4 div.sk-parallel-item {display: flex;flex-direction: column;z-index: 1;position: relative;background-color: white;}#sk-container-id-4 div.sk-parallel-item:first-child::after {align-self: flex-end;width: 50%;}#sk-container-id-4 div.sk-parallel-item:last-child::after {align-self: flex-start;width: 50%;}#sk-container-id-4 div.sk-parallel-item:only-child::after {width: 0;}#sk-container-id-4 div.sk-dashed-wrapped {border: 1px dashed gray;margin: 0 0.4em 0.5em 0.4em;box-sizing: border-box;padding-bottom: 0.4em;background-color: white;}#sk-container-id-4 div.sk-label label {font-family: monospace;font-weight: bold;display: inline-block;line-height: 1.2em;}#sk-container-id-4 div.sk-label-container {text-align: center;}#sk-container-id-4 div.sk-container {/* jupyter's `normalize.less` sets `[hidden] { display: none; }` but bootstrap.min.css set `[hidden] { display: none !important; }` so we also need the `!important` here to be able to override the default hidden behavior on the sphinx rendered scikit-learn.org. See: https://github.com/scikit-learn/scikit-learn/issues/21755 */display: inline-block !important;position: relative;}#sk-container-id-4 div.sk-text-repr-fallback {display: none;}</style><div id=\"sk-container-id-4\" class=\"sk-top-container\"><div class=\"sk-text-repr-fallback\"><pre>GridSearchCV(cv=4, estimator=RandomForestRegressor(max_depth=18), n_jobs=-1,\n",
       "             param_grid={&#x27;n_estimators&#x27;: [100, 150, 200]})</pre><b>In a Jupyter environment, please rerun this cell to show the HTML representation or trust the notebook. <br />On GitHub, the HTML representation is unable to render, please try loading this page with nbviewer.org.</b></div><div class=\"sk-container\" hidden><div class=\"sk-item sk-dashed-wrapped\"><div class=\"sk-label-container\"><div class=\"sk-label sk-toggleable\"><input class=\"sk-toggleable__control sk-hidden--visually\" id=\"sk-estimator-id-10\" type=\"checkbox\" ><label for=\"sk-estimator-id-10\" class=\"sk-toggleable__label sk-toggleable__label-arrow\">GridSearchCV</label><div class=\"sk-toggleable__content\"><pre>GridSearchCV(cv=4, estimator=RandomForestRegressor(max_depth=18), n_jobs=-1,\n",
       "             param_grid={&#x27;n_estimators&#x27;: [100, 150, 200]})</pre></div></div></div><div class=\"sk-parallel\"><div class=\"sk-parallel-item\"><div class=\"sk-item\"><div class=\"sk-label-container\"><div class=\"sk-label sk-toggleable\"><input class=\"sk-toggleable__control sk-hidden--visually\" id=\"sk-estimator-id-11\" type=\"checkbox\" ><label for=\"sk-estimator-id-11\" class=\"sk-toggleable__label sk-toggleable__label-arrow\">estimator: RandomForestRegressor</label><div class=\"sk-toggleable__content\"><pre>RandomForestRegressor(max_depth=18)</pre></div></div></div><div class=\"sk-serial\"><div class=\"sk-item\"><div class=\"sk-estimator sk-toggleable\"><input class=\"sk-toggleable__control sk-hidden--visually\" id=\"sk-estimator-id-12\" type=\"checkbox\" ><label for=\"sk-estimator-id-12\" class=\"sk-toggleable__label sk-toggleable__label-arrow\">RandomForestRegressor</label><div class=\"sk-toggleable__content\"><pre>RandomForestRegressor(max_depth=18)</pre></div></div></div></div></div></div></div></div></div></div>"
      ],
      "text/plain": [
       "GridSearchCV(cv=4, estimator=RandomForestRegressor(max_depth=18), n_jobs=-1,\n",
       "             param_grid={'n_estimators': [100, 150, 200]})"
      ]
     },
     "execution_count": 60,
     "metadata": {},
     "output_type": "execute_result"
    }
   ],
   "source": [
    "params_dist_random_forest = {'n_estimators' : [100, 150, 200]}\n",
    "\n",
    "\n",
    "\n",
    "regr_forest = RandomForestRegressor(max_depth= 18)\n",
    "\n",
    "opt_clf2 = GridSearchCV(regr_forest, param_grid=params_dist_random_forest, cv=4, n_jobs=-1)\n",
    "\n",
    "opt_clf2.fit(X_train,Y_train)"
   ]
  },
  {
   "cell_type": "code",
   "execution_count": 61,
   "metadata": {},
   "outputs": [
    {
     "name": "stdout",
     "output_type": "stream",
     "text": [
      "0.9347687949742995 0.5907237468132466 {'n_estimators': 200}\n"
     ]
    }
   ],
   "source": [
    "print(opt_clf2.score(X_train, Y_train), opt_clf2.score(X_test, Y_test), opt_clf2.best_params_ )"
   ]
  },
  {
   "cell_type": "markdown",
   "metadata": {},
   "source": [
    "به نظر تغییر تعداد درخت‌ها با سرعت کمی مسئله را بهتر می‌کند و از نظر محاسباتی هم پیچیده است. سراغ کارهای دیگر می‌رویم"
   ]
  },
  {
   "cell_type": "code",
   "execution_count": 64,
   "metadata": {},
   "outputs": [
    {
     "data": {
      "text/html": [
       "<style>#sk-container-id-5 {color: black;background-color: white;}#sk-container-id-5 pre{padding: 0;}#sk-container-id-5 div.sk-toggleable {background-color: white;}#sk-container-id-5 label.sk-toggleable__label {cursor: pointer;display: block;width: 100%;margin-bottom: 0;padding: 0.3em;box-sizing: border-box;text-align: center;}#sk-container-id-5 label.sk-toggleable__label-arrow:before {content: \"▸\";float: left;margin-right: 0.25em;color: #696969;}#sk-container-id-5 label.sk-toggleable__label-arrow:hover:before {color: black;}#sk-container-id-5 div.sk-estimator:hover label.sk-toggleable__label-arrow:before {color: black;}#sk-container-id-5 div.sk-toggleable__content {max-height: 0;max-width: 0;overflow: hidden;text-align: left;background-color: #f0f8ff;}#sk-container-id-5 div.sk-toggleable__content pre {margin: 0.2em;color: black;border-radius: 0.25em;background-color: #f0f8ff;}#sk-container-id-5 input.sk-toggleable__control:checked~div.sk-toggleable__content {max-height: 200px;max-width: 100%;overflow: auto;}#sk-container-id-5 input.sk-toggleable__control:checked~label.sk-toggleable__label-arrow:before {content: \"▾\";}#sk-container-id-5 div.sk-estimator input.sk-toggleable__control:checked~label.sk-toggleable__label {background-color: #d4ebff;}#sk-container-id-5 div.sk-label input.sk-toggleable__control:checked~label.sk-toggleable__label {background-color: #d4ebff;}#sk-container-id-5 input.sk-hidden--visually {border: 0;clip: rect(1px 1px 1px 1px);clip: rect(1px, 1px, 1px, 1px);height: 1px;margin: -1px;overflow: hidden;padding: 0;position: absolute;width: 1px;}#sk-container-id-5 div.sk-estimator {font-family: monospace;background-color: #f0f8ff;border: 1px dotted black;border-radius: 0.25em;box-sizing: border-box;margin-bottom: 0.5em;}#sk-container-id-5 div.sk-estimator:hover {background-color: #d4ebff;}#sk-container-id-5 div.sk-parallel-item::after {content: \"\";width: 100%;border-bottom: 1px solid gray;flex-grow: 1;}#sk-container-id-5 div.sk-label:hover label.sk-toggleable__label {background-color: #d4ebff;}#sk-container-id-5 div.sk-serial::before {content: \"\";position: absolute;border-left: 1px solid gray;box-sizing: border-box;top: 0;bottom: 0;left: 50%;z-index: 0;}#sk-container-id-5 div.sk-serial {display: flex;flex-direction: column;align-items: center;background-color: white;padding-right: 0.2em;padding-left: 0.2em;position: relative;}#sk-container-id-5 div.sk-item {position: relative;z-index: 1;}#sk-container-id-5 div.sk-parallel {display: flex;align-items: stretch;justify-content: center;background-color: white;position: relative;}#sk-container-id-5 div.sk-item::before, #sk-container-id-5 div.sk-parallel-item::before {content: \"\";position: absolute;border-left: 1px solid gray;box-sizing: border-box;top: 0;bottom: 0;left: 50%;z-index: -1;}#sk-container-id-5 div.sk-parallel-item {display: flex;flex-direction: column;z-index: 1;position: relative;background-color: white;}#sk-container-id-5 div.sk-parallel-item:first-child::after {align-self: flex-end;width: 50%;}#sk-container-id-5 div.sk-parallel-item:last-child::after {align-self: flex-start;width: 50%;}#sk-container-id-5 div.sk-parallel-item:only-child::after {width: 0;}#sk-container-id-5 div.sk-dashed-wrapped {border: 1px dashed gray;margin: 0 0.4em 0.5em 0.4em;box-sizing: border-box;padding-bottom: 0.4em;background-color: white;}#sk-container-id-5 div.sk-label label {font-family: monospace;font-weight: bold;display: inline-block;line-height: 1.2em;}#sk-container-id-5 div.sk-label-container {text-align: center;}#sk-container-id-5 div.sk-container {/* jupyter's `normalize.less` sets `[hidden] { display: none; }` but bootstrap.min.css set `[hidden] { display: none !important; }` so we also need the `!important` here to be able to override the default hidden behavior on the sphinx rendered scikit-learn.org. See: https://github.com/scikit-learn/scikit-learn/issues/21755 */display: inline-block !important;position: relative;}#sk-container-id-5 div.sk-text-repr-fallback {display: none;}</style><div id=\"sk-container-id-5\" class=\"sk-top-container\"><div class=\"sk-text-repr-fallback\"><pre>GridSearchCV(estimator=RandomForestRegressor(max_depth=18), n_jobs=-1,\n",
       "             param_grid={&#x27;min_samples_leaf&#x27;: [1, 5, 10]})</pre><b>In a Jupyter environment, please rerun this cell to show the HTML representation or trust the notebook. <br />On GitHub, the HTML representation is unable to render, please try loading this page with nbviewer.org.</b></div><div class=\"sk-container\" hidden><div class=\"sk-item sk-dashed-wrapped\"><div class=\"sk-label-container\"><div class=\"sk-label sk-toggleable\"><input class=\"sk-toggleable__control sk-hidden--visually\" id=\"sk-estimator-id-13\" type=\"checkbox\" ><label for=\"sk-estimator-id-13\" class=\"sk-toggleable__label sk-toggleable__label-arrow\">GridSearchCV</label><div class=\"sk-toggleable__content\"><pre>GridSearchCV(estimator=RandomForestRegressor(max_depth=18), n_jobs=-1,\n",
       "             param_grid={&#x27;min_samples_leaf&#x27;: [1, 5, 10]})</pre></div></div></div><div class=\"sk-parallel\"><div class=\"sk-parallel-item\"><div class=\"sk-item\"><div class=\"sk-label-container\"><div class=\"sk-label sk-toggleable\"><input class=\"sk-toggleable__control sk-hidden--visually\" id=\"sk-estimator-id-14\" type=\"checkbox\" ><label for=\"sk-estimator-id-14\" class=\"sk-toggleable__label sk-toggleable__label-arrow\">estimator: RandomForestRegressor</label><div class=\"sk-toggleable__content\"><pre>RandomForestRegressor(max_depth=18)</pre></div></div></div><div class=\"sk-serial\"><div class=\"sk-item\"><div class=\"sk-estimator sk-toggleable\"><input class=\"sk-toggleable__control sk-hidden--visually\" id=\"sk-estimator-id-15\" type=\"checkbox\" ><label for=\"sk-estimator-id-15\" class=\"sk-toggleable__label sk-toggleable__label-arrow\">RandomForestRegressor</label><div class=\"sk-toggleable__content\"><pre>RandomForestRegressor(max_depth=18)</pre></div></div></div></div></div></div></div></div></div></div>"
      ],
      "text/plain": [
       "GridSearchCV(estimator=RandomForestRegressor(max_depth=18), n_jobs=-1,\n",
       "             param_grid={'min_samples_leaf': [1, 5, 10]})"
      ]
     },
     "execution_count": 64,
     "metadata": {},
     "output_type": "execute_result"
    }
   ],
   "source": [
    "params_dist_random_forest = {'min_samples_leaf' : [1, 5, 10]}\n",
    "\n",
    "\n",
    "\n",
    "regr_forest = RandomForestRegressor(max_depth= 18)\n",
    "\n",
    "opt_clf2 = GridSearchCV(regr_forest, param_grid=params_dist_random_forest, n_jobs=-1)\n",
    "\n",
    "opt_clf2.fit(X_train,Y_train)"
   ]
  },
  {
   "cell_type": "code",
   "execution_count": 65,
   "metadata": {},
   "outputs": [
    {
     "name": "stdout",
     "output_type": "stream",
     "text": [
      "0.933169270581403 0.5874895690335427 {'min_samples_leaf': 1}\n"
     ]
    }
   ],
   "source": [
    "print(opt_clf2.score(X_train, Y_train), opt_clf2.score(X_test, Y_test), opt_clf2.best_params_ )"
   ]
  },
  {
   "cell_type": "code",
   "execution_count": 66,
   "metadata": {},
   "outputs": [
    {
     "data": {
      "text/html": [
       "<style>#sk-container-id-6 {color: black;background-color: white;}#sk-container-id-6 pre{padding: 0;}#sk-container-id-6 div.sk-toggleable {background-color: white;}#sk-container-id-6 label.sk-toggleable__label {cursor: pointer;display: block;width: 100%;margin-bottom: 0;padding: 0.3em;box-sizing: border-box;text-align: center;}#sk-container-id-6 label.sk-toggleable__label-arrow:before {content: \"▸\";float: left;margin-right: 0.25em;color: #696969;}#sk-container-id-6 label.sk-toggleable__label-arrow:hover:before {color: black;}#sk-container-id-6 div.sk-estimator:hover label.sk-toggleable__label-arrow:before {color: black;}#sk-container-id-6 div.sk-toggleable__content {max-height: 0;max-width: 0;overflow: hidden;text-align: left;background-color: #f0f8ff;}#sk-container-id-6 div.sk-toggleable__content pre {margin: 0.2em;color: black;border-radius: 0.25em;background-color: #f0f8ff;}#sk-container-id-6 input.sk-toggleable__control:checked~div.sk-toggleable__content {max-height: 200px;max-width: 100%;overflow: auto;}#sk-container-id-6 input.sk-toggleable__control:checked~label.sk-toggleable__label-arrow:before {content: \"▾\";}#sk-container-id-6 div.sk-estimator input.sk-toggleable__control:checked~label.sk-toggleable__label {background-color: #d4ebff;}#sk-container-id-6 div.sk-label input.sk-toggleable__control:checked~label.sk-toggleable__label {background-color: #d4ebff;}#sk-container-id-6 input.sk-hidden--visually {border: 0;clip: rect(1px 1px 1px 1px);clip: rect(1px, 1px, 1px, 1px);height: 1px;margin: -1px;overflow: hidden;padding: 0;position: absolute;width: 1px;}#sk-container-id-6 div.sk-estimator {font-family: monospace;background-color: #f0f8ff;border: 1px dotted black;border-radius: 0.25em;box-sizing: border-box;margin-bottom: 0.5em;}#sk-container-id-6 div.sk-estimator:hover {background-color: #d4ebff;}#sk-container-id-6 div.sk-parallel-item::after {content: \"\";width: 100%;border-bottom: 1px solid gray;flex-grow: 1;}#sk-container-id-6 div.sk-label:hover label.sk-toggleable__label {background-color: #d4ebff;}#sk-container-id-6 div.sk-serial::before {content: \"\";position: absolute;border-left: 1px solid gray;box-sizing: border-box;top: 0;bottom: 0;left: 50%;z-index: 0;}#sk-container-id-6 div.sk-serial {display: flex;flex-direction: column;align-items: center;background-color: white;padding-right: 0.2em;padding-left: 0.2em;position: relative;}#sk-container-id-6 div.sk-item {position: relative;z-index: 1;}#sk-container-id-6 div.sk-parallel {display: flex;align-items: stretch;justify-content: center;background-color: white;position: relative;}#sk-container-id-6 div.sk-item::before, #sk-container-id-6 div.sk-parallel-item::before {content: \"\";position: absolute;border-left: 1px solid gray;box-sizing: border-box;top: 0;bottom: 0;left: 50%;z-index: -1;}#sk-container-id-6 div.sk-parallel-item {display: flex;flex-direction: column;z-index: 1;position: relative;background-color: white;}#sk-container-id-6 div.sk-parallel-item:first-child::after {align-self: flex-end;width: 50%;}#sk-container-id-6 div.sk-parallel-item:last-child::after {align-self: flex-start;width: 50%;}#sk-container-id-6 div.sk-parallel-item:only-child::after {width: 0;}#sk-container-id-6 div.sk-dashed-wrapped {border: 1px dashed gray;margin: 0 0.4em 0.5em 0.4em;box-sizing: border-box;padding-bottom: 0.4em;background-color: white;}#sk-container-id-6 div.sk-label label {font-family: monospace;font-weight: bold;display: inline-block;line-height: 1.2em;}#sk-container-id-6 div.sk-label-container {text-align: center;}#sk-container-id-6 div.sk-container {/* jupyter's `normalize.less` sets `[hidden] { display: none; }` but bootstrap.min.css set `[hidden] { display: none !important; }` so we also need the `!important` here to be able to override the default hidden behavior on the sphinx rendered scikit-learn.org. See: https://github.com/scikit-learn/scikit-learn/issues/21755 */display: inline-block !important;position: relative;}#sk-container-id-6 div.sk-text-repr-fallback {display: none;}</style><div id=\"sk-container-id-6\" class=\"sk-top-container\"><div class=\"sk-text-repr-fallback\"><pre>GridSearchCV(estimator=RandomForestRegressor(max_depth=18), n_jobs=-1,\n",
       "             param_grid={&#x27;min_samples_split&#x27;: [2, 5, 10]})</pre><b>In a Jupyter environment, please rerun this cell to show the HTML representation or trust the notebook. <br />On GitHub, the HTML representation is unable to render, please try loading this page with nbviewer.org.</b></div><div class=\"sk-container\" hidden><div class=\"sk-item sk-dashed-wrapped\"><div class=\"sk-label-container\"><div class=\"sk-label sk-toggleable\"><input class=\"sk-toggleable__control sk-hidden--visually\" id=\"sk-estimator-id-16\" type=\"checkbox\" ><label for=\"sk-estimator-id-16\" class=\"sk-toggleable__label sk-toggleable__label-arrow\">GridSearchCV</label><div class=\"sk-toggleable__content\"><pre>GridSearchCV(estimator=RandomForestRegressor(max_depth=18), n_jobs=-1,\n",
       "             param_grid={&#x27;min_samples_split&#x27;: [2, 5, 10]})</pre></div></div></div><div class=\"sk-parallel\"><div class=\"sk-parallel-item\"><div class=\"sk-item\"><div class=\"sk-label-container\"><div class=\"sk-label sk-toggleable\"><input class=\"sk-toggleable__control sk-hidden--visually\" id=\"sk-estimator-id-17\" type=\"checkbox\" ><label for=\"sk-estimator-id-17\" class=\"sk-toggleable__label sk-toggleable__label-arrow\">estimator: RandomForestRegressor</label><div class=\"sk-toggleable__content\"><pre>RandomForestRegressor(max_depth=18)</pre></div></div></div><div class=\"sk-serial\"><div class=\"sk-item\"><div class=\"sk-estimator sk-toggleable\"><input class=\"sk-toggleable__control sk-hidden--visually\" id=\"sk-estimator-id-18\" type=\"checkbox\" ><label for=\"sk-estimator-id-18\" class=\"sk-toggleable__label sk-toggleable__label-arrow\">RandomForestRegressor</label><div class=\"sk-toggleable__content\"><pre>RandomForestRegressor(max_depth=18)</pre></div></div></div></div></div></div></div></div></div></div>"
      ],
      "text/plain": [
       "GridSearchCV(estimator=RandomForestRegressor(max_depth=18), n_jobs=-1,\n",
       "             param_grid={'min_samples_split': [2, 5, 10]})"
      ]
     },
     "execution_count": 66,
     "metadata": {},
     "output_type": "execute_result"
    }
   ],
   "source": [
    "params_dist_random_forest = {'min_samples_split' : [2, 5, 10]}\n",
    "\n",
    "\n",
    "\n",
    "regr_forest = RandomForestRegressor(max_depth= 18)\n",
    "\n",
    "opt_clf2 = GridSearchCV(regr_forest, param_grid=params_dist_random_forest, n_jobs=-1)\n",
    "\n",
    "opt_clf2.fit(X_train,Y_train)"
   ]
  },
  {
   "cell_type": "code",
   "execution_count": 67,
   "metadata": {},
   "outputs": [
    {
     "name": "stdout",
     "output_type": "stream",
     "text": [
      "0.9328122264762176 0.5885203665360823 {'min_samples_split': 2}\n"
     ]
    }
   ],
   "source": [
    "print(opt_clf2.score(X_train, Y_train), opt_clf2.score(X_test, Y_test), opt_clf2.best_params_ )"
   ]
  },
  {
   "cell_type": "markdown",
   "metadata": {},
   "source": [
    "تفاوت نسبتا زیادی بین نمره‌ی تست و ترین وجود دارد ولی با بازی کردن با پارامترهای مختلف نتوانستیم آن را رفع کنیم."
   ]
  },
  {
   "cell_type": "code",
   "execution_count": 37,
   "metadata": {},
   "outputs": [],
   "source": [
    "regr_forest = RandomForestRegressor(max_depth= 18)\n",
    "\n",
    "train_frac = np.linspace(0.1, 1.0, 5)\n",
    "\n",
    "train_size_abs, train_scores, test_scores = learning_curve(neigh_distance, X_train, Y_train, train_sizes=train_frac , cv=5, n_jobs=-1)\n"
   ]
  },
  {
   "cell_type": "code",
   "execution_count": 38,
   "metadata": {},
   "outputs": [],
   "source": [
    "test_scores = test_scores.mean(axis=1)\n",
    "train_scores = train_scores.mean(axis=1)"
   ]
  },
  {
   "cell_type": "code",
   "execution_count": 39,
   "metadata": {},
   "outputs": [
    {
     "data": {
      "text/plain": [
       "[]"
      ]
     },
     "execution_count": 39,
     "metadata": {},
     "output_type": "execute_result"
    },
    {
     "data": {
      "image/png": "[encoded data removed]",
      "text/plain": [
       "<Figure size 432x288 with 1 Axes>"
      ]
     },
     "metadata": {
      "needs_background": "light"
     },
     "output_type": "display_data"
    }
   ],
   "source": [
    "samples_used = train_frac * len(X_train)\n",
    "\n",
    "plt.plot(samples_used, train_scores, color='m', label='Train Scores') \n",
    "plt.plot(samples_used, test_scores, color='g', label='Test Scores') \n",
    "\n",
    "plt.title('Learning Curve - Random Forest')\n",
    "plt.xlabel('Data Size')\n",
    "plt.ylabel('Score')\n",
    "plt.legend()\n",
    "\n",
    "plt.plot()"
   ]
  },
  {
   "cell_type": "code",
   "execution_count": 40,
   "metadata": {},
   "outputs": [
    {
     "name": "stdout",
     "output_type": "stream",
     "text": [
      "[1. 1. 1. 1. 1.]\n",
      "[0.50853662 0.54256393 0.55515727 0.56303913 0.56611616]\n"
     ]
    }
   ],
   "source": [
    "print(train_scores)\n",
    "print(test_scores)"
   ]
  },
  {
   "cell_type": "markdown",
   "metadata": {},
   "source": [
    "مجدد طبق نمودار داده‌های کافی داریم.\n",
    "\n",
    "حتی همان ۲۰ هزارتا هم کافی است.\n",
    "\n",
    "اینجا هم مشابه رگرسیون خطی از داده‌های کمتری استفاده می‌کنیم.\n",
    "\n",
    "برای \n",
    "SVM\n",
    "از ده هزار داده استفاده کردیم"
   ]
  },
  {
   "cell_type": "markdown",
   "metadata": {},
   "source": [
    "SVM"
   ]
  },
  {
   "cell_type": "code",
   "execution_count": 73,
   "metadata": {},
   "outputs": [
    {
     "data": {
      "text/html": [
       "<style>#sk-container-id-1 {color: black;background-color: white;}#sk-container-id-1 pre{padding: 0;}#sk-container-id-1 div.sk-toggleable {background-color: white;}#sk-container-id-1 label.sk-toggleable__label {cursor: pointer;display: block;width: 100%;margin-bottom: 0;padding: 0.3em;box-sizing: border-box;text-align: center;}#sk-container-id-1 label.sk-toggleable__label-arrow:before {content: \"▸\";float: left;margin-right: 0.25em;color: #696969;}#sk-container-id-1 label.sk-toggleable__label-arrow:hover:before {color: black;}#sk-container-id-1 div.sk-estimator:hover label.sk-toggleable__label-arrow:before {color: black;}#sk-container-id-1 div.sk-toggleable__content {max-height: 0;max-width: 0;overflow: hidden;text-align: left;background-color: #f0f8ff;}#sk-container-id-1 div.sk-toggleable__content pre {margin: 0.2em;color: black;border-radius: 0.25em;background-color: #f0f8ff;}#sk-container-id-1 input.sk-toggleable__control:checked~div.sk-toggleable__content {max-height: 200px;max-width: 100%;overflow: auto;}#sk-container-id-1 input.sk-toggleable__control:checked~label.sk-toggleable__label-arrow:before {content: \"▾\";}#sk-container-id-1 div.sk-estimator input.sk-toggleable__control:checked~label.sk-toggleable__label {background-color: #d4ebff;}#sk-container-id-1 div.sk-label input.sk-toggleable__control:checked~label.sk-toggleable__label {background-color: #d4ebff;}#sk-container-id-1 input.sk-hidden--visually {border: 0;clip: rect(1px 1px 1px 1px);clip: rect(1px, 1px, 1px, 1px);height: 1px;margin: -1px;overflow: hidden;padding: 0;position: absolute;width: 1px;}#sk-container-id-1 div.sk-estimator {font-family: monospace;background-color: #f0f8ff;border: 1px dotted black;border-radius: 0.25em;box-sizing: border-box;margin-bottom: 0.5em;}#sk-container-id-1 div.sk-estimator:hover {background-color: #d4ebff;}#sk-container-id-1 div.sk-parallel-item::after {content: \"\";width: 100%;border-bottom: 1px solid gray;flex-grow: 1;}#sk-container-id-1 div.sk-label:hover label.sk-toggleable__label {background-color: #d4ebff;}#sk-container-id-1 div.sk-serial::before {content: \"\";position: absolute;border-left: 1px solid gray;box-sizing: border-box;top: 0;bottom: 0;left: 50%;z-index: 0;}#sk-container-id-1 div.sk-serial {display: flex;flex-direction: column;align-items: center;background-color: white;padding-right: 0.2em;padding-left: 0.2em;position: relative;}#sk-container-id-1 div.sk-item {position: relative;z-index: 1;}#sk-container-id-1 div.sk-parallel {display: flex;align-items: stretch;justify-content: center;background-color: white;position: relative;}#sk-container-id-1 div.sk-item::before, #sk-container-id-1 div.sk-parallel-item::before {content: \"\";position: absolute;border-left: 1px solid gray;box-sizing: border-box;top: 0;bottom: 0;left: 50%;z-index: -1;}#sk-container-id-1 div.sk-parallel-item {display: flex;flex-direction: column;z-index: 1;position: relative;background-color: white;}#sk-container-id-1 div.sk-parallel-item:first-child::after {align-self: flex-end;width: 50%;}#sk-container-id-1 div.sk-parallel-item:last-child::after {align-self: flex-start;width: 50%;}#sk-container-id-1 div.sk-parallel-item:only-child::after {width: 0;}#sk-container-id-1 div.sk-dashed-wrapped {border: 1px dashed gray;margin: 0 0.4em 0.5em 0.4em;box-sizing: border-box;padding-bottom: 0.4em;background-color: white;}#sk-container-id-1 div.sk-label label {font-family: monospace;font-weight: bold;display: inline-block;line-height: 1.2em;}#sk-container-id-1 div.sk-label-container {text-align: center;}#sk-container-id-1 div.sk-container {/* jupyter's `normalize.less` sets `[hidden] { display: none; }` but bootstrap.min.css set `[hidden] { display: none !important; }` so we also need the `!important` here to be able to override the default hidden behavior on the sphinx rendered scikit-learn.org. See: https://github.com/scikit-learn/scikit-learn/issues/21755 */display: inline-block !important;position: relative;}#sk-container-id-1 div.sk-text-repr-fallback {display: none;}</style><div id=\"sk-container-id-1\" class=\"sk-top-container\"><div class=\"sk-text-repr-fallback\"><pre>RandomizedSearchCV(cv=5,\n",
       "                   estimator=Pipeline(steps=[(&#x27;clf&#x27;,\n",
       "                                              MultiOutputRegressor(estimator=SVR()))]),\n",
       "                   n_jobs=-1,\n",
       "                   param_distributions={&#x27;clf__estimator__C&#x27;: &lt;scipy.stats._distn_infrastructure.rv_continuous_frozen object at 0x000001E995BF97C0&gt;,\n",
       "                                        &#x27;clf__estimator__gamma&#x27;: &lt;scipy.stats._distn_infrastructure.rv_continuous_frozen object at 0x000001E9988318E0&gt;})</pre><b>In a Jupyter environment, please rerun this cell to show the HTML representation or trust the notebook. <br />On GitHub, the HTML representation is unable to render, please try loading this page with nbviewer.org.</b></div><div class=\"sk-container\" hidden><div class=\"sk-item sk-dashed-wrapped\"><div class=\"sk-label-container\"><div class=\"sk-label sk-toggleable\"><input class=\"sk-toggleable__control sk-hidden--visually\" id=\"sk-estimator-id-1\" type=\"checkbox\" ><label for=\"sk-estimator-id-1\" class=\"sk-toggleable__label sk-toggleable__label-arrow\">RandomizedSearchCV</label><div class=\"sk-toggleable__content\"><pre>RandomizedSearchCV(cv=5,\n",
       "                   estimator=Pipeline(steps=[(&#x27;clf&#x27;,\n",
       "                                              MultiOutputRegressor(estimator=SVR()))]),\n",
       "                   n_jobs=-1,\n",
       "                   param_distributions={&#x27;clf__estimator__C&#x27;: &lt;scipy.stats._distn_infrastructure.rv_continuous_frozen object at 0x000001E995BF97C0&gt;,\n",
       "                                        &#x27;clf__estimator__gamma&#x27;: &lt;scipy.stats._distn_infrastructure.rv_continuous_frozen object at 0x000001E9988318E0&gt;})</pre></div></div></div><div class=\"sk-parallel\"><div class=\"sk-parallel-item\"><div class=\"sk-item\"><div class=\"sk-label-container\"><div class=\"sk-label sk-toggleable\"><input class=\"sk-toggleable__control sk-hidden--visually\" id=\"sk-estimator-id-2\" type=\"checkbox\" ><label for=\"sk-estimator-id-2\" class=\"sk-toggleable__label sk-toggleable__label-arrow\">estimator: Pipeline</label><div class=\"sk-toggleable__content\"><pre>Pipeline(steps=[(&#x27;clf&#x27;, MultiOutputRegressor(estimator=SVR()))])</pre></div></div></div><div class=\"sk-serial\"><div class=\"sk-item\"><div class=\"sk-serial\"><div class=\"sk-item sk-dashed-wrapped\"><div class=\"sk-label-container\"><div class=\"sk-label sk-toggleable\"><input class=\"sk-toggleable__control sk-hidden--visually\" id=\"sk-estimator-id-3\" type=\"checkbox\" ><label for=\"sk-estimator-id-3\" class=\"sk-toggleable__label sk-toggleable__label-arrow\">clf: MultiOutputRegressor</label><div class=\"sk-toggleable__content\"><pre>MultiOutputRegressor(estimator=SVR())</pre></div></div></div><div class=\"sk-parallel\"><div class=\"sk-parallel-item\"><div class=\"sk-item\"><div class=\"sk-label-container\"><div class=\"sk-label sk-toggleable\"><input class=\"sk-toggleable__control sk-hidden--visually\" id=\"sk-estimator-id-4\" type=\"checkbox\" ><label for=\"sk-estimator-id-4\" class=\"sk-toggleable__label sk-toggleable__label-arrow\">estimator: SVR</label><div class=\"sk-toggleable__content\"><pre>SVR()</pre></div></div></div><div class=\"sk-serial\"><div class=\"sk-item\"><div class=\"sk-estimator sk-toggleable\"><input class=\"sk-toggleable__control sk-hidden--visually\" id=\"sk-estimator-id-5\" type=\"checkbox\" ><label for=\"sk-estimator-id-5\" class=\"sk-toggleable__label sk-toggleable__label-arrow\">SVR</label><div class=\"sk-toggleable__content\"><pre>SVR()</pre></div></div></div></div></div></div></div></div></div></div></div></div></div></div></div></div></div>"
      ],
      "text/plain": [
       "RandomizedSearchCV(cv=5,\n",
       "                   estimator=Pipeline(steps=[('clf',\n",
       "                                              MultiOutputRegressor(estimator=SVR()))]),\n",
       "                   n_jobs=-1,\n",
       "                   param_distributions={'clf__estimator__C': <scipy.stats._distn_infrastructure.rv_continuous_frozen object at 0x000001E995BF97C0>,\n",
       "                                        'clf__estimator__gamma': <scipy.stats._distn_infrastructure.rv_continuous_frozen object at 0x000001E9988318E0>})"
      ]
     },
     "execution_count": 73,
     "metadata": {},
     "output_type": "execute_result"
    }
   ],
   "source": [
    "params_dist = {'clf__estimator__C': expon(scale=10), 'clf__estimator__gamma':expon(scale=10)}\n",
    "\n",
    "\n",
    "svr = SVR()\n",
    "\n",
    "pipeline = Pipeline(  [('clf', MultiOutputRegressor(svr))]  )\n",
    "opt_clf = RandomizedSearchCV(pipeline, param_distributions=params_dist, cv=5, n_jobs=-1)\n",
    "opt_clf.fit(X_train,Y_train)\n",
    "\n",
    "\n",
    "# best_C_for_different_labels = np.zeros(Y_train.shape[1])\n",
    "# best_gamma_for_different_labels = np.zeros(Y_train.shape[1])\n",
    "# train_scores_for_different_labels = np.zeros(Y_train.shape[1])\n",
    "# test_scores_for_different_labels = np.zeros(Y_train.shape[1])\n",
    "\n",
    "# for i in range(Y_train.shape[1]):\n",
    "\n",
    "#     opt_clf = RandomizedSearchCV(svr, param_distributions=params_dist, cv=5, n_jobs=-1)\n",
    "#     opt_clf.fit(X_train,Y_train[:, i])\n",
    "\n",
    "#     # best_parameters_for_different_labels.append(opt_clf.best_params_)\n",
    "#     best_parameters = opt_clf.best_params_\n",
    "\n",
    "#     best_C_for_different_labels[i] = best_parameters['C']\n",
    "#     best_gamma_for_different_labels[i] = best_parameters['gamma']\n",
    "\n",
    "#     train_scores_for_different_labels[i] = opt_clf.score(X_train, Y_train[:, i])\n",
    "#     test_scores_for_different_labels[i] = opt_clf.score(X_test, Y_test[:, i])\n",
    "\n",
    "#     print(i+1, Y_train.shape[1])\n",
    "\n"
   ]
  },
  {
   "cell_type": "code",
   "execution_count": 74,
   "metadata": {},
   "outputs": [],
   "source": [
    "best_pipeline = opt_clf.best_estimator_\n",
    "\n",
    "best_parameters_svr = opt_clf.best_params_"
   ]
  },
  {
   "cell_type": "code",
   "execution_count": 75,
   "metadata": {},
   "outputs": [],
   "source": [
    "best_C = best_parameters_svr['clf__estimator__C']\n",
    "best_gamma = best_parameters_svr['clf__estimator__gamma']"
   ]
  },
  {
   "cell_type": "code",
   "execution_count": 76,
   "metadata": {},
   "outputs": [
    {
     "data": {
      "text/plain": [
       "0.7026888336952297"
      ]
     },
     "execution_count": 76,
     "metadata": {},
     "output_type": "execute_result"
    }
   ],
   "source": [
    "opt_clf.score(X_train, Y_train)"
   ]
  },
  {
   "cell_type": "code",
   "execution_count": 77,
   "metadata": {},
   "outputs": [
    {
     "data": {
      "text/plain": [
       "0.7061623502817573"
      ]
     },
     "execution_count": 77,
     "metadata": {},
     "output_type": "execute_result"
    }
   ],
   "source": [
    "opt_clf.score(X_test, Y_test)"
   ]
  },
  {
   "cell_type": "markdown",
   "metadata": {},
   "source": [
    "Learning Curve of SVM"
   ]
  },
  {
   "cell_type": "code",
   "execution_count": 78,
   "metadata": {},
   "outputs": [],
   "source": [
    "\n",
    "train_frac = np.linspace(0.1, 1.0, 5)\n",
    "\n",
    "train_size_abs, train_scores, test_scores = learning_curve(best_pipeline, X_train, Y_train, train_sizes=train_frac , cv=5, n_jobs=-1)\n"
   ]
  },
  {
   "cell_type": "code",
   "execution_count": 79,
   "metadata": {},
   "outputs": [],
   "source": [
    "test_scores = test_scores.mean(axis=1)\n",
    "train_scores = train_scores.mean(axis=1)"
   ]
  },
  {
   "cell_type": "code",
   "execution_count": 80,
   "metadata": {},
   "outputs": [
    {
     "data": {
      "text/plain": [
       "[]"
      ]
     },
     "execution_count": 80,
     "metadata": {},
     "output_type": "execute_result"
    },
    {
     "data": {
      "image/png": "[encoded data removed]",
      "text/plain": [
       "<Figure size 432x288 with 1 Axes>"
      ]
     },
     "metadata": {
      "needs_background": "light"
     },
     "output_type": "display_data"
    }
   ],
   "source": [
    "samples_used = train_frac * len(X_train)\n",
    "\n",
    "plt.plot(samples_used, train_scores, color='m', label='Train Scores') \n",
    "plt.plot(samples_used, test_scores, color='g', label='Test Scores') \n",
    "\n",
    "plt.title('Learning Curve - SVR')\n",
    "plt.xlabel('Data Size')\n",
    "plt.ylabel('Score')\n",
    "plt.legend()\n",
    "\n",
    "plt.plot()"
   ]
  },
  {
   "cell_type": "markdown",
   "metadata": {},
   "source": [
    "برای\n",
    "SVM\n",
    "مقدار داده‌هایمان کافی نیست. با ۲۰ هزارتا مجدد امتحان می‌کنیم. \n",
    "\n"
   ]
  },
  {
   "cell_type": "code",
   "execution_count": 82,
   "metadata": {},
   "outputs": [
    {
     "data": {
      "text/html": [
       "<style>#sk-container-id-2 {color: black;background-color: white;}#sk-container-id-2 pre{padding: 0;}#sk-container-id-2 div.sk-toggleable {background-color: white;}#sk-container-id-2 label.sk-toggleable__label {cursor: pointer;display: block;width: 100%;margin-bottom: 0;padding: 0.3em;box-sizing: border-box;text-align: center;}#sk-container-id-2 label.sk-toggleable__label-arrow:before {content: \"▸\";float: left;margin-right: 0.25em;color: #696969;}#sk-container-id-2 label.sk-toggleable__label-arrow:hover:before {color: black;}#sk-container-id-2 div.sk-estimator:hover label.sk-toggleable__label-arrow:before {color: black;}#sk-container-id-2 div.sk-toggleable__content {max-height: 0;max-width: 0;overflow: hidden;text-align: left;background-color: #f0f8ff;}#sk-container-id-2 div.sk-toggleable__content pre {margin: 0.2em;color: black;border-radius: 0.25em;background-color: #f0f8ff;}#sk-container-id-2 input.sk-toggleable__control:checked~div.sk-toggleable__content {max-height: 200px;max-width: 100%;overflow: auto;}#sk-container-id-2 input.sk-toggleable__control:checked~label.sk-toggleable__label-arrow:before {content: \"▾\";}#sk-container-id-2 div.sk-estimator input.sk-toggleable__control:checked~label.sk-toggleable__label {background-color: #d4ebff;}#sk-container-id-2 div.sk-label input.sk-toggleable__control:checked~label.sk-toggleable__label {background-color: #d4ebff;}#sk-container-id-2 input.sk-hidden--visually {border: 0;clip: rect(1px 1px 1px 1px);clip: rect(1px, 1px, 1px, 1px);height: 1px;margin: -1px;overflow: hidden;padding: 0;position: absolute;width: 1px;}#sk-container-id-2 div.sk-estimator {font-family: monospace;background-color: #f0f8ff;border: 1px dotted black;border-radius: 0.25em;box-sizing: border-box;margin-bottom: 0.5em;}#sk-container-id-2 div.sk-estimator:hover {background-color: #d4ebff;}#sk-container-id-2 div.sk-parallel-item::after {content: \"\";width: 100%;border-bottom: 1px solid gray;flex-grow: 1;}#sk-container-id-2 div.sk-label:hover label.sk-toggleable__label {background-color: #d4ebff;}#sk-container-id-2 div.sk-serial::before {content: \"\";position: absolute;border-left: 1px solid gray;box-sizing: border-box;top: 0;bottom: 0;left: 50%;z-index: 0;}#sk-container-id-2 div.sk-serial {display: flex;flex-direction: column;align-items: center;background-color: white;padding-right: 0.2em;padding-left: 0.2em;position: relative;}#sk-container-id-2 div.sk-item {position: relative;z-index: 1;}#sk-container-id-2 div.sk-parallel {display: flex;align-items: stretch;justify-content: center;background-color: white;position: relative;}#sk-container-id-2 div.sk-item::before, #sk-container-id-2 div.sk-parallel-item::before {content: \"\";position: absolute;border-left: 1px solid gray;box-sizing: border-box;top: 0;bottom: 0;left: 50%;z-index: -1;}#sk-container-id-2 div.sk-parallel-item {display: flex;flex-direction: column;z-index: 1;position: relative;background-color: white;}#sk-container-id-2 div.sk-parallel-item:first-child::after {align-self: flex-end;width: 50%;}#sk-container-id-2 div.sk-parallel-item:last-child::after {align-self: flex-start;width: 50%;}#sk-container-id-2 div.sk-parallel-item:only-child::after {width: 0;}#sk-container-id-2 div.sk-dashed-wrapped {border: 1px dashed gray;margin: 0 0.4em 0.5em 0.4em;box-sizing: border-box;padding-bottom: 0.4em;background-color: white;}#sk-container-id-2 div.sk-label label {font-family: monospace;font-weight: bold;display: inline-block;line-height: 1.2em;}#sk-container-id-2 div.sk-label-container {text-align: center;}#sk-container-id-2 div.sk-container {/* jupyter's `normalize.less` sets `[hidden] { display: none; }` but bootstrap.min.css set `[hidden] { display: none !important; }` so we also need the `!important` here to be able to override the default hidden behavior on the sphinx rendered scikit-learn.org. See: https://github.com/scikit-learn/scikit-learn/issues/21755 */display: inline-block !important;position: relative;}#sk-container-id-2 div.sk-text-repr-fallback {display: none;}</style><div id=\"sk-container-id-2\" class=\"sk-top-container\"><div class=\"sk-text-repr-fallback\"><pre>RandomizedSearchCV(cv=5,\n",
       "                   estimator=Pipeline(steps=[(&#x27;clf&#x27;,\n",
       "                                              MultiOutputRegressor(estimator=SVR()))]),\n",
       "                   n_jobs=-1,\n",
       "                   param_distributions={&#x27;clf__estimator__C&#x27;: &lt;scipy.stats._distn_infrastructure.rv_continuous_frozen object at 0x000001E995B9D2B0&gt;,\n",
       "                                        &#x27;clf__estimator__gamma&#x27;: &lt;scipy.stats._distn_infrastructure.rv_continuous_frozen object at 0x000001E995646FA0&gt;})</pre><b>In a Jupyter environment, please rerun this cell to show the HTML representation or trust the notebook. <br />On GitHub, the HTML representation is unable to render, please try loading this page with nbviewer.org.</b></div><div class=\"sk-container\" hidden><div class=\"sk-item sk-dashed-wrapped\"><div class=\"sk-label-container\"><div class=\"sk-label sk-toggleable\"><input class=\"sk-toggleable__control sk-hidden--visually\" id=\"sk-estimator-id-6\" type=\"checkbox\" ><label for=\"sk-estimator-id-6\" class=\"sk-toggleable__label sk-toggleable__label-arrow\">RandomizedSearchCV</label><div class=\"sk-toggleable__content\"><pre>RandomizedSearchCV(cv=5,\n",
       "                   estimator=Pipeline(steps=[(&#x27;clf&#x27;,\n",
       "                                              MultiOutputRegressor(estimator=SVR()))]),\n",
       "                   n_jobs=-1,\n",
       "                   param_distributions={&#x27;clf__estimator__C&#x27;: &lt;scipy.stats._distn_infrastructure.rv_continuous_frozen object at 0x000001E995B9D2B0&gt;,\n",
       "                                        &#x27;clf__estimator__gamma&#x27;: &lt;scipy.stats._distn_infrastructure.rv_continuous_frozen object at 0x000001E995646FA0&gt;})</pre></div></div></div><div class=\"sk-parallel\"><div class=\"sk-parallel-item\"><div class=\"sk-item\"><div class=\"sk-label-container\"><div class=\"sk-label sk-toggleable\"><input class=\"sk-toggleable__control sk-hidden--visually\" id=\"sk-estimator-id-7\" type=\"checkbox\" ><label for=\"sk-estimator-id-7\" class=\"sk-toggleable__label sk-toggleable__label-arrow\">estimator: Pipeline</label><div class=\"sk-toggleable__content\"><pre>Pipeline(steps=[(&#x27;clf&#x27;, MultiOutputRegressor(estimator=SVR()))])</pre></div></div></div><div class=\"sk-serial\"><div class=\"sk-item\"><div class=\"sk-serial\"><div class=\"sk-item sk-dashed-wrapped\"><div class=\"sk-label-container\"><div class=\"sk-label sk-toggleable\"><input class=\"sk-toggleable__control sk-hidden--visually\" id=\"sk-estimator-id-8\" type=\"checkbox\" ><label for=\"sk-estimator-id-8\" class=\"sk-toggleable__label sk-toggleable__label-arrow\">clf: MultiOutputRegressor</label><div class=\"sk-toggleable__content\"><pre>MultiOutputRegressor(estimator=SVR())</pre></div></div></div><div class=\"sk-parallel\"><div class=\"sk-parallel-item\"><div class=\"sk-item\"><div class=\"sk-label-container\"><div class=\"sk-label sk-toggleable\"><input class=\"sk-toggleable__control sk-hidden--visually\" id=\"sk-estimator-id-9\" type=\"checkbox\" ><label for=\"sk-estimator-id-9\" class=\"sk-toggleable__label sk-toggleable__label-arrow\">estimator: SVR</label><div class=\"sk-toggleable__content\"><pre>SVR()</pre></div></div></div><div class=\"sk-serial\"><div class=\"sk-item\"><div class=\"sk-estimator sk-toggleable\"><input class=\"sk-toggleable__control sk-hidden--visually\" id=\"sk-estimator-id-10\" type=\"checkbox\" ><label for=\"sk-estimator-id-10\" class=\"sk-toggleable__label sk-toggleable__label-arrow\">SVR</label><div class=\"sk-toggleable__content\"><pre>SVR()</pre></div></div></div></div></div></div></div></div></div></div></div></div></div></div></div></div></div>"
      ],
      "text/plain": [
       "RandomizedSearchCV(cv=5,\n",
       "                   estimator=Pipeline(steps=[('clf',\n",
       "                                              MultiOutputRegressor(estimator=SVR()))]),\n",
       "                   n_jobs=-1,\n",
       "                   param_distributions={'clf__estimator__C': <scipy.stats._distn_infrastructure.rv_continuous_frozen object at 0x000001E995B9D2B0>,\n",
       "                                        'clf__estimator__gamma': <scipy.stats._distn_infrastructure.rv_continuous_frozen object at 0x000001E995646FA0>})"
      ]
     },
     "execution_count": 82,
     "metadata": {},
     "output_type": "execute_result"
    }
   ],
   "source": [
    "params_dist = {'clf__estimator__C': expon(scale=10), 'clf__estimator__gamma':expon(scale=10)}\n",
    "\n",
    "\n",
    "svr = SVR()\n",
    "\n",
    "pipeline = Pipeline(  [('clf', MultiOutputRegressor(svr))]  )\n",
    "opt_clf = RandomizedSearchCV(pipeline, param_distributions=params_dist, cv=5, n_jobs=-1)\n",
    "opt_clf.fit(X_train,Y_train)"
   ]
  },
  {
   "cell_type": "code",
   "execution_count": 84,
   "metadata": {},
   "outputs": [],
   "source": [
    "best_pipeline = opt_clf.best_estimator_\n",
    "\n",
    "best_parameters_svr = opt_clf.best_params_"
   ]
  },
  {
   "cell_type": "code",
   "execution_count": 85,
   "metadata": {},
   "outputs": [],
   "source": [
    "best_C = best_parameters_svr['clf__estimator__C']\n",
    "best_gamma = best_parameters_svr['clf__estimator__gamma']"
   ]
  },
  {
   "cell_type": "code",
   "execution_count": 86,
   "metadata": {},
   "outputs": [
    {
     "data": {
      "text/plain": [
       "0.720500718941699"
      ]
     },
     "execution_count": 86,
     "metadata": {},
     "output_type": "execute_result"
    }
   ],
   "source": [
    "opt_clf.score(X_train, Y_train)"
   ]
  },
  {
   "cell_type": "code",
   "execution_count": 87,
   "metadata": {},
   "outputs": [
    {
     "data": {
      "text/plain": [
       "0.6753428621346117"
      ]
     },
     "execution_count": 87,
     "metadata": {},
     "output_type": "execute_result"
    }
   ],
   "source": [
    "opt_clf.score(X_test, Y_test)"
   ]
  },
  {
   "cell_type": "code",
   "execution_count": 88,
   "metadata": {},
   "outputs": [],
   "source": [
    "train_frac = np.linspace(0.5, 1.0, 3)\n",
    "\n",
    "train_size_abs, train_scores, test_scores = learning_curve(best_pipeline, X_train, Y_train, train_sizes=train_frac , cv=5, n_jobs=-1)"
   ]
  },
  {
   "cell_type": "code",
   "execution_count": 89,
   "metadata": {},
   "outputs": [],
   "source": [
    "test_scores = test_scores.mean(axis=1)\n",
    "train_scores = train_scores.mean(axis=1)"
   ]
  },
  {
   "cell_type": "code",
   "execution_count": 90,
   "metadata": {},
   "outputs": [
    {
     "data": {
      "text/plain": [
       "[]"
      ]
     },
     "execution_count": 90,
     "metadata": {},
     "output_type": "execute_result"
    },
    {
     "data": {
      "image/png": "[encoded data removed]",
      "text/plain": [
       "<Figure size 432x288 with 1 Axes>"
      ]
     },
     "metadata": {
      "needs_background": "light"
     },
     "output_type": "display_data"
    }
   ],
   "source": [
    "samples_used = train_frac * len(X_train)\n",
    "\n",
    "plt.plot(samples_used, train_scores, color='m', label='Train Scores') \n",
    "plt.plot(samples_used, test_scores, color='g', label='Test Scores') \n",
    "\n",
    "plt.title('Learning Curve - SVR')\n",
    "plt.xlabel('Data Size')\n",
    "plt.ylabel('Score')\n",
    "plt.legend()\n",
    "\n",
    "plt.plot()"
   ]
  },
  {
   "cell_type": "code",
   "execution_count": 91,
   "metadata": {},
   "outputs": [
    {
     "name": "stdout",
     "output_type": "stream",
     "text": [
      "[0.72156145 0.71995028 0.72090453]\n",
      "[0.64738896 0.65801461 0.66548155]\n"
     ]
    }
   ],
   "source": [
    "print(train_scores)\n",
    "print(test_scores)"
   ]
  },
  {
   "cell_type": "markdown",
   "metadata": {},
   "source": [
    "با ترکیب دو نمودار اخیر به نظر همچنان داده‌ی بیشتر نتیجه‌ی بهتری خواهد داد. اما به دلیل اینکه زمان اجرای آن خیلی طولانی می‌شود عملا نمی‌توان چنین حالتی را امتحان کرد."
   ]
  },
  {
   "cell_type": "markdown",
   "metadata": {},
   "source": [
    "Decision Tree"
   ]
  },
  {
   "cell_type": "code",
   "execution_count": 62,
   "metadata": {},
   "outputs": [
    {
     "name": "stdout",
     "output_type": "stream",
     "text": [
      "1 9\n",
      "2 9\n",
      "3 9\n",
      "4 9\n",
      "5 9\n",
      "6 9\n",
      "7 9\n",
      "8 9\n",
      "9 9\n"
     ]
    }
   ],
   "source": [
    "list_of_depth = np.array([10, 15, 16, 17, 18, 20, 22, 25, 30])\n",
    "\n",
    "test_scores_tree = np.zeros(len(list_of_depth))\n",
    "train_scores_tree = np.zeros(len(list_of_depth))\n",
    "\n",
    "for depth_count in range(len(list_of_depth)):\n",
    "    depth = list_of_depth[depth_count]\n",
    "\n",
    "    # X_train, Y_train = make_regression(shuffle=False)\n",
    "    # X_train, Y_train = make_regression()\n",
    "    regr_tree = DecisionTreeRegressor(max_depth= depth)\n",
    "    regr_tree.fit(X_train, Y_train)\n",
    "\n",
    "    print(depth_count+1, len(list_of_depth))\n",
    "\n",
    "    \n",
    "    \n",
    "    train_scores_tree[depth_count] = regr_tree.score(X_train, Y_train)\n",
    "    test_scores_tree[depth_count] = regr_tree.score(X_test, Y_test)"
   ]
  },
  {
   "cell_type": "code",
   "execution_count": 65,
   "metadata": {},
   "outputs": [
    {
     "data": {
      "text/plain": [
       "[]"
      ]
     },
     "execution_count": 65,
     "metadata": {},
     "output_type": "execute_result"
    },
    {
     "data": {
      "image/png": "[encoded data removed]",
      "text/plain": [
       "<Figure size 432x288 with 1 Axes>"
      ]
     },
     "metadata": {
      "needs_background": "light"
     },
     "output_type": "display_data"
    }
   ],
   "source": [
    "plt.plot(list_of_depth, train_scores_tree, color='m', label='Train Scores') \n",
    "plt.plot(list_of_depth, test_scores_tree, color='g', label='Test Scores') \n",
    "\n",
    "plt.title('Validation Curve - Decision Tree')\n",
    "plt.xlabel('ٔdepth')\n",
    "plt.ylabel('Score')\n",
    "plt.legend()\n",
    "\n",
    "plt.plot()"
   ]
  },
  {
   "cell_type": "code",
   "execution_count": 66,
   "metadata": {},
   "outputs": [
    {
     "name": "stdout",
     "output_type": "stream",
     "text": [
      "1 7\n",
      "2 7\n",
      "3 7\n",
      "4 7\n",
      "5 7\n",
      "6 7\n",
      "7 7\n"
     ]
    }
   ],
   "source": [
    "list_of_depth = np.array([1, 5, 7, 9, 10, 12, 15])\n",
    "\n",
    "test_scores_tree = np.zeros(len(list_of_depth))\n",
    "train_scores_tree = np.zeros(len(list_of_depth))\n",
    "\n",
    "for depth_count in range(len(list_of_depth)):\n",
    "    depth = list_of_depth[depth_count]\n",
    "\n",
    "    # X_train, Y_train = make_regression(shuffle=False)\n",
    "    # X_train, Y_train = make_regression()\n",
    "    regr_tree = DecisionTreeRegressor(max_depth= depth)\n",
    "    regr_tree.fit(X_train, Y_train)\n",
    "\n",
    "    print(depth_count+1, len(list_of_depth))\n",
    "\n",
    "    \n",
    "    \n",
    "    train_scores_tree[depth_count] = regr_tree.score(X_train, Y_train)\n",
    "    test_scores_tree[depth_count] = regr_tree.score(X_test, Y_test)"
   ]
  },
  {
   "cell_type": "code",
   "execution_count": 68,
   "metadata": {},
   "outputs": [
    {
     "data": {
      "text/plain": [
       "[]"
      ]
     },
     "execution_count": 68,
     "metadata": {},
     "output_type": "execute_result"
    },
    {
     "data": {
      "image/png": "[encoded data removed]",
      "text/plain": [
       "<Figure size 432x288 with 1 Axes>"
      ]
     },
     "metadata": {
      "needs_background": "light"
     },
     "output_type": "display_data"
    }
   ],
   "source": [
    "plt.plot(list_of_depth, train_scores_tree, color='m', label='Train Scores') \n",
    "plt.plot(list_of_depth, test_scores_tree, color='g', label='Test Scores') \n",
    "\n",
    "plt.title('Validation Curve - Decision Tree')\n",
    "plt.xlabel('Depth')\n",
    "plt.ylabel('Score')\n",
    "plt.legend()\n",
    "\n",
    "plt.plot()"
   ]
  },
  {
   "cell_type": "markdown",
   "metadata": {},
   "source": [
    "حدود عمق ۹ احتمالا بهترین گزینه هست"
   ]
  },
  {
   "cell_type": "code",
   "execution_count": 69,
   "metadata": {},
   "outputs": [],
   "source": [
    "regr_tree = DecisionTreeRegressor(max_depth= 9)\n",
    "\n",
    "train_frac = np.linspace(0.1, 1.0, 5)\n",
    "\n",
    "train_size_abs, train_scores, test_scores = learning_curve(regr_tree, X_train, Y_train, train_sizes=train_frac , cv=5, n_jobs=-1)"
   ]
  },
  {
   "cell_type": "code",
   "execution_count": 70,
   "metadata": {},
   "outputs": [],
   "source": [
    "test_scores = test_scores.mean(axis=1)\n",
    "train_scores = train_scores.mean(axis=1)"
   ]
  },
  {
   "cell_type": "code",
   "execution_count": 71,
   "metadata": {},
   "outputs": [
    {
     "data": {
      "text/plain": [
       "[]"
      ]
     },
     "execution_count": 71,
     "metadata": {},
     "output_type": "execute_result"
    },
    {
     "data": {
      "image/png": "[encoded data removed]",
      "text/plain": [
       "<Figure size 432x288 with 1 Axes>"
      ]
     },
     "metadata": {
      "needs_background": "light"
     },
     "output_type": "display_data"
    }
   ],
   "source": [
    "samples_used = train_frac * len(X_train)\n",
    "\n",
    "plt.plot(samples_used, train_scores, color='m', label='Train Scores') \n",
    "plt.plot(samples_used, test_scores, color='g', label='Test Scores') \n",
    "\n",
    "plt.title('Learning Curve - Decision Tree')\n",
    "plt.xlabel('Data Size')\n",
    "plt.ylabel('Score')\n",
    "plt.legend()\n",
    "\n",
    "plt.plot()"
   ]
  },
  {
   "cell_type": "markdown",
   "metadata": {},
   "source": [
    "داده‌ها کافی است\n",
    "\n",
    "برای مقایسه، متریک همه \n",
    "\n",
    "acurracy\n",
    "\n",
    "است.\n",
    "\n",
    "برای بقیه‌ی مقایسه‌ها:\n"
   ]
  },
  {
   "cell_type": "code",
   "execution_count": 46,
   "metadata": {},
   "outputs": [
    {
     "name": "stdout",
     "output_type": "stream",
     "text": [
      "LinearRegression SGD: test_scores: 0.695 - train scores: 0.7- optimization time: 98s\n",
      "KNN: test_scores: 0.61 - train scores: 0.66- optimization time: 140s\n",
      "Random Forest: test_scores: 0.58 - train scores: 0.95- optimization time: 150s\n",
      "SVR: test_scores: 0.68 - train scores: 0.72- optimization time: 510s\n",
      "Decision Tree: test_scores: 0.3 - train scores: 0.4- optimization time: 3s\n"
     ]
    }
   ],
   "source": [
    "print('LinearRegression SGD: ' + 'test_scores: ' + str(0.695) + ' - train scores: ' + str(0.7) + '- optimization time: ' + str(98) +'s' )\n",
    "print('KNN: ' + 'test_scores: ' + str(0.61) + ' - train scores: ' + str(0.66) + '- optimization time: ' + str(140) +'s' )\n",
    "print('Random Forest: ' + 'test_scores: ' + str(0.58) + ' - train scores: ' + str(0.95) + '- optimization time: ' + str(150) +'s')\n",
    "print('SVR: ' + 'test_scores: ' + str(0.68) + ' - train scores: ' + str(0.72) + '- optimization time: ' + str(510) + 's' )\n",
    "print('Decision Tree: ' + 'test_scores: ' + str(0.3) + ' - train scores: ' + str(0.4) + '- optimization time: ' + str(3) +'s' )"
   ]
  },
  {
   "cell_type": "markdown",
   "metadata": {},
   "source": [
    "سرجمع رگرسیون خطی و رندوم فارست و \n",
    "\n",
    "SVR\n",
    "\n",
    "بهتر از بقیه عمل کردند. \n",
    "\n",
    "SVR\n",
    "\n",
    "زمان اجرا شدن آن خیلی طولانی بود. \n",
    "\n",
    "درخت تصمیم گیری که نتیجه‌ی آن خیلی بد بود در مقایسه با بقیه و شاید قابل پیشبینی هم بود. \n",
    "\n",
    "KNN\n",
    "\n",
    "هم به نسبت بقیه خیلی شاید بد نبود.\n",
    "\n",
    "رندوم فارست واریانس خیلی زیادی دارد اما بایاس آن کم است.\n",
    "\n",
    "رگرسیون خطی و \n",
    "\n",
    "SVR\n",
    "\n",
    "هم واریانس زیادی ندارند."
   ]
  },
  {
   "cell_type": "code",
   "execution_count": null,
   "metadata": {},
   "outputs": [],
   "source": []
  }
 ],
 "metadata": {
  "kernelspec": {
   "display_name": "Python 3",
   "language": "python",
   "name": "python3"
  },
  "language_info": {
   "codemirror_mode": {
    "name": "ipython",
    "version": 3
   },
   "file_extension": ".py",
   "mimetype": "text/x-python",
   "name": "python",
   "nbconvert_exporter": "python",
   "pygments_lexer": "ipython3",
   "version": "3.9.13"
  }
 },
 "nbformat": 4,
 "nbformat_minor": 2
}
