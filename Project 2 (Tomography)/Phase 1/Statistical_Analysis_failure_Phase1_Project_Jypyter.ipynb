{
 "cells": [
  {
   "cell_type": "code",
   "execution_count": 1,
   "metadata": {},
   "outputs": [],
   "source": [
    "import pandas as pd\n",
    "import numpy as np\n",
    "# import random\n",
    "import scipy as sp\n",
    "import time\n",
    "import seaborn as sns\n",
    "import matplotlib.pyplot as plt\n",
    "\n",
    "\n",
    "noise_std = 0.001\n",
    "\n",
    "df = pd.read_csv('Tomography - noise_' + str(noise_std) + ' - No of removed measurements_0.csv')\n",
    "\n",
    "df = df.drop('Unnamed: 0', axis=1)\n",
    "\n",
    "# df = df.sample(n=1000)\n",
    "\n",
    "# print(df)\n",
    "\n",
    "X = df[[\"feature1\", \"feature2\", \"feature3\", \"feature4\", \"feature5\", \"feature6\", \"feature7\", \"feature8\", \"feature9\", \"feature10\", \"feature11\", \"feature12\", \"feature13\", \"feature14\", \"feature15\", \"feature16\"]].to_numpy()\n",
    "\n",
    "Y = df[[\"label1\", \"label2\", \"label3\", \"label4\", \"label5\", \"label6\", \"label7\", \"label8\", \"label9\", \"label10\", \"label11\", \"label12\", \"label13\", \"label14\", \"label15\", \"label16\"]].to_numpy()\n",
    "\n"
   ]
  },
  {
   "cell_type": "code",
   "execution_count": 4,
   "metadata": {},
   "outputs": [
    {
     "name": "stdout",
     "output_type": "stream",
     "text": [
      "0.013619432967901267\n",
      "0.013590675479461896\n",
      "0.013677388167263113\n",
      "0.01361235944114115\n",
      "0.013781686732859226\n",
      "0.0137870340409087\n",
      "0.013684350497896944\n",
      "0.013629322326157677\n",
      "0.013694537946997506\n",
      "0.013611272475921518\n",
      "0.013728683944742493\n",
      "0.013577678314940328\n",
      "0.013802239435494178\n",
      "0.013614748469204815\n",
      "0.01372581419341496\n",
      "0.013693800449181195\n"
     ]
    }
   ],
   "source": [
    "################################## Feature Distribution\n",
    "for i in range(1, 17):\n",
    "\n",
    "    feature = df['feature'+str(i)].to_numpy()\n",
    "\n",
    "    sns.displot(feature)\n",
    "\n",
    "    # print(np.var(feature))\n",
    "    plt.xlabel('Distribution of Feature'+str(i))\n",
    "    plt.ylabel('Value')\n",
    "\n",
    "    plt.savefig('Distribution of Feature' + str(i) + '.png')"
   ]
  },
  {
   "cell_type": "code",
   "execution_count": 37,
   "metadata": {},
   "outputs": [
    {
     "data": {
      "text/plain": [
       "array([0.07911382, 0.08368352, 0.09562909, 0.09797733, 0.08182275,\n",
       "       0.08187128, 0.09720486, 0.09777472, 0.09719424, 0.09815005,\n",
       "       0.0959644 , 0.09783426, 0.09933344, 0.10050695, 0.0967515 ,\n",
       "       0.09768291])"
      ]
     },
     "execution_count": 37,
     "metadata": {},
     "output_type": "execute_result"
    }
   ],
   "source": [
    "################################## Feature Selection\n",
    "from sklearn.multioutput import MultiOutputRegressor\n",
    "from sklearn.linear_model import Ridge\n",
    "from sklearn.inspection import permutation_importance\n",
    "\n",
    "\n",
    "regr = MultiOutputRegressor(Ridge(random_state=123)).fit(X, Y)\n",
    "regr.score(X, Y)\n",
    "\n",
    "r = permutation_importance(regr, X, Y,  n_repeats=30, random_state=0)\n",
    "\n",
    "importance = r.importances_mean\n",
    "\n",
    "\n",
    "importance\n",
    "# sns.displot(importance)\n",
    "\n",
    "# # print(np.var(feature))\n",
    "# plt.xlabel('Features')\n",
    "# plt.ylabel('Importance')\n",
    "\n",
    "\n",
    "# plt.savefig('Importance of Features')\n",
    "# regr.predict(X[1].reshape(1, -1))-Y[1]\n",
    "# selector = SelectFromModel(estimator=MultiOutputRegressor()).fit(X, Y)\n",
    "# importance_of_features = selector.estimator_.coef_\n",
    "# print(importance_of_features)"
   ]
  },
  {
   "cell_type": "code",
   "execution_count": 41,
   "metadata": {},
   "outputs": [
    {
     "name": "stdout",
     "output_type": "stream",
     "text": [
      "           feature1  feature2  feature3  feature4  feature5  feature6  \\\n",
      "feature1   1.000000 -0.330504  0.333617  0.337271 -0.332745 -0.332992   \n",
      "feature2  -0.330504  1.000000  0.331299  0.332384 -0.332202 -0.332196   \n",
      "feature3   0.333617  0.331299  1.000000  0.328426 -0.331204 -0.329427   \n",
      "feature4   0.337271  0.332384  0.328426  1.000000 -0.333148 -0.332176   \n",
      "feature5  -0.332745 -0.332202 -0.331204 -0.333148  1.000000 -0.339187   \n",
      "feature6  -0.332992 -0.332196 -0.329427 -0.332176 -0.339187  1.000000   \n",
      "feature7  -0.329294 -0.336089 -0.330341 -0.330266  0.329694  0.331335   \n",
      "feature8  -0.334326 -0.333490 -0.332183 -0.339885  0.329455  0.334023   \n",
      "feature9   0.331519 -0.335250 -0.003387 -0.005933  0.336216 -0.332827   \n",
      "feature10 -0.328994  0.329837 -0.001043  0.002032 -0.331228  0.330642   \n",
      "feature11  0.004673 -0.005536  0.330987 -0.002547  0.001343 -0.000502   \n",
      "feature12  0.002998 -0.005148 -0.007914  0.325951  0.001571  0.000501   \n",
      "feature13  0.332059 -0.332496  0.004517  0.003054  0.335489 -0.335295   \n",
      "feature14 -0.330701  0.327944 -0.003814  0.000125 -0.337056  0.340086   \n",
      "feature15  0.002054 -0.003932  0.334735 -0.000082  0.003744 -0.001875   \n",
      "feature16  0.004660 -0.005913 -0.004031  0.332004 -0.001496  0.002771   \n",
      "\n",
      "           feature7  feature8  feature9  feature10  feature11  feature12  \\\n",
      "feature1  -0.329294 -0.334326  0.331519  -0.328994   0.004673   0.002998   \n",
      "feature2  -0.336089 -0.333490 -0.335250   0.329837  -0.005536  -0.005148   \n",
      "feature3  -0.330341 -0.332183 -0.003387  -0.001043   0.330987  -0.007914   \n",
      "feature4  -0.330266 -0.339885 -0.005933   0.002032  -0.002547   0.325951   \n",
      "feature5   0.329694  0.329455  0.336216  -0.331228   0.001343   0.001571   \n",
      "feature6   0.331335  0.334023 -0.332827   0.330642  -0.000502   0.000501   \n",
      "feature7   1.000000  0.332107  0.003815  -0.003310   0.336879   0.004241   \n",
      "feature8   0.332107  1.000000  0.000455   0.000187  -0.000249   0.331514   \n",
      "feature9   0.003815  0.000455  1.000000  -0.331096   0.337853   0.332396   \n",
      "feature10 -0.003310  0.000187 -0.331096   1.000000   0.330201   0.334267   \n",
      "feature11  0.336879 -0.000249  0.337853   0.330201   1.000000   0.332047   \n",
      "feature12  0.004241  0.331514  0.332396   0.334267   0.332047   1.000000   \n",
      "feature13  0.001521 -0.000832  0.335240  -0.329435   0.004278   0.006604   \n",
      "feature14  0.001828  0.004229 -0.336305   0.327605  -0.005647  -0.003354   \n",
      "feature15  0.334922 -0.001923  0.004490  -0.006521   0.334714  -0.002469   \n",
      "feature16  0.003619  0.332512  0.000731  -0.002261  -0.002356   0.331205   \n",
      "\n",
      "           feature13  feature14  feature15  feature16  \n",
      "feature1    0.332059  -0.330701   0.002054   0.004660  \n",
      "feature2   -0.332496   0.327944  -0.003932  -0.005913  \n",
      "feature3    0.004517  -0.003814   0.334735  -0.004031  \n",
      "feature4    0.003054   0.000125  -0.000082   0.332004  \n",
      "feature5    0.335489  -0.337056   0.003744  -0.001496  \n",
      "feature6   -0.335295   0.340086  -0.001875   0.002771  \n",
      "feature7    0.001521   0.001828   0.334922   0.003619  \n",
      "feature8   -0.000832   0.004229  -0.001923   0.332512  \n",
      "feature9    0.335240  -0.336305   0.004490   0.000731  \n",
      "feature10  -0.329435   0.327605  -0.006521  -0.002261  \n",
      "feature11   0.004278  -0.005647   0.334714  -0.002356  \n",
      "feature12   0.006604  -0.003354  -0.002469   0.331205  \n",
      "feature13   1.000000  -0.337664   0.335927   0.336248  \n",
      "feature14  -0.337664   1.000000   0.325660   0.333203  \n",
      "feature15   0.335927   0.325660   1.000000   0.330457  \n",
      "feature16   0.336248   0.333203   0.330457   1.000000  \n"
     ]
    }
   ],
   "source": [
    "########################################## Correlation of Features\n",
    "\n",
    "correlation_matrix = df[[\"feature1\", \"feature2\", \"feature3\", \"feature4\", \"feature5\", \"feature6\", \"feature7\", \"feature8\", \"feature9\", \"feature10\", \"feature11\", \"feature12\", \"feature13\", \"feature14\", \"feature15\", \"feature16\"]].corr()\n",
    "\n",
    "print(correlation_matrix)"
   ]
  },
  {
   "cell_type": "code",
   "execution_count": 4,
   "metadata": {},
   "outputs": [],
   "source": [
    "from random import sample\n",
    "p=0.02\n",
    "l=[i for i in range(1,16)]\n",
    "nums=np.random.binomial(15,p,100000)\n",
    "for i in range(100000):\n",
    "    rem=sample(l,nums[i])\n",
    "    df.iloc[i,rem]=0\n",
    "df.to_csv('Tomog-dim4-0.001noise-randomfailure0.02.csv')"
   ]
  }
 ],
 "metadata": {
  "kernelspec": {
   "display_name": "Python 3",
   "language": "python",
   "name": "python3"
  },
  "language_info": {
   "codemirror_mode": {
    "name": "ipython",
    "version": 3
   },
   "file_extension": ".py",
   "mimetype": "text/x-python",
   "name": "python",
   "nbconvert_exporter": "python",
   "pygments_lexer": "ipython3",
   "version": "3.9.4"
  }
 },
 "nbformat": 4,
 "nbformat_minor": 2
}
